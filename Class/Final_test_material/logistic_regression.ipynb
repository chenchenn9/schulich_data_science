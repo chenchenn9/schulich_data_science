{
 "cells": [
  {
   "cell_type": "markdown",
   "metadata": {},
   "source": [
    "# Bulding a Logistic Regression model in Python\n",
    "\n",
    "Logistic Regression is a type of probabilistic classification model. It works best for a binary output (e.g., predicting whether someone has a disease or not; predicting if a credit card transaction is likely to be fraudulent or not; predicting whether someone is likely to survive the Titanic or not). \n",
    "\n",
    "## The difference between probability and likelihood\n",
    "\n",
    "### Probability\n",
    "\n",
    "Probability refers to finding the chance that something happens given a sample distribution of data. For example, if we collected income data from 100 people which was normally distributed and had the following characteristics: $$ \\mu = 50,000 $$ and $$ \\sigma = 5 ,000$$ we could calculate the *probability* that someone has a salary greater than $48,000. First we find the z-score: $$ z = {x - \\mu \\over \\sigma} $$ thus $$ z = {48,000 - 50,000 \\over 5,000} $$ which results in $$ z = -0.4 $$\n",
    "\n",
    "Then, we can look up the corresponding z-value in the z-table which equals 0.34458. Now we can calculate the probability that someone makes more than $48,000 by calculating $$P(>48,000) = 1-0.34458 = 0.65542$$ Therefore, there is a 65% chance a randomly selected person makes more than $48,000\n",
    "\n",
    "### Likelihood\n",
    "\n",
    "*Likelihood* flips the question around and essentially tries to figure out the best characteristics (probability distribution) of data given a particular value. For example, if we collected a bunch of income data (let's say 100 observations), and we observed that most of the observations are between $45,000 and $50,000, which distribution (normal, exponential, gamma) with what characteristics (mean, standard deviation) would maximize the likelihood that we observe what we observed? We could check a whole bunch of different distributions (e.g., normal distribution with mean of $30,000 and stdev of $2,000, OR normal distribution with mean of $48,000 and stdev of $3,000, and so on) and how they fit the data, and we would pick the distribution and characteristics which maximize the likelihood that we see what we saw in our data (i.e., if our collected data had an average income of $48,000, we would pick the distribution which has this average as well). Basically, we are trying to find the best distribution as opposed to already having the distribution available. Once we find the best distribution, we can calculate probabilities!\n",
    "\n",
    "### Maximum Likelihood Estimation\n",
    "\n",
    "In the real world, a common modelling problem is the question of estimating a joint probability distribution for a dataset. Density estimation would involve selecting a probability distribution function and the parameters that best explain the joint probability of observed data, so the obvious questions are: How should you choose the distribution function? How should you choose the parameters for the probability density function?\n",
    "\n",
    "Two common techniques are Maximum a Posteriori (MAP) and Maximum Likelihood Estimation (MLE). MLE assumes that all solutions are equally likely, while MAP takes into account prior information about the form of the solution.\n",
    "\n",
    "MLE treats the problem as an optimization problem (i.e., searching for the optimal solution). We wish to maximize the probability of observing the data from a joint probability distribution given a distribution and parameters that we already know. Mathematically this is stated as:\n",
    "\n",
    "$$ P(X | \\theta)$$ \n",
    "\n",
    "where theta is an unknown parameter. The resulting conditional probability is referred to as the *likelihood* of observing the data given the model parameters and uses the notation: \n",
    "$$L(X | \\theta)$$\n",
    "\n",
    "Calculating conditional probabilities, gven a sample comprises of n-examples, this can be framed as the joint probabilty of the observed data samples (x1, x2...xn) given the probability distribution parameters. The joint probability distribution can be restated as the multiplication of the conditional probability of observing each example, given the distribution parameters.\n",
    "\n",
    "Multiplying all the small probabilities, however, is time consuming, so we can restate this further as the sum of the log conditional probabilities of observing each example given the model parameters. This is what leads to the use of the term *log-likelihood function*.\n",
    "\n",
    "When we are *fitting* a machine learning model, we are essentially trying to estimate probability density - i.e., finding the best parameters or settings that explain the data. The Maximum Likelihood Estimation (MLE) framework is used for density estimation in both supervised and unsupervised models (and in neural nets) - it provides the basis for both Linear and Logistic Regression models. In summary, you can think of it as an optimization problem of searching a whole bunch of parameters in order to find the BEST parameters.\n",
    "\n",
    "\n",
    "### The good stuff - Logistic Regression\n",
    "\n",
    "You should use the slides to supplement your learning but this will be more detailed and probably better. Yes, you can use this for the exam. Yes, the exam will include content from this notebook (I guess you would only know that if you read this far already!!). Don't worry; I'll remind you to read it in class. Anyway, I digress...\n",
    "\n",
    "As discussed, logistic regression is used *primarily* for predicting binary classes (True/False, 0/1, Yes/No type of problems). Just like linear regression, logistic regression will have a function in the form of:\n",
    "$$ y = mx + b$$\n",
    "Where the coefficients will tell us information about how the input variables (x-values) impact our output variable (probability of Y / 1 / True). The main difference between logistic and linear regression, is that logistic regression will produce an output that is always between 0 and 1 (0 = 0% likelihood of an outcome happening; 1=100% likelihood of an outcome happening). This translates to the 0/1 binary outcome using a probability threshold - the default threshold is 50%, meaning that if the probability of an outcome is 50% or higher, it's classified as 1 (i.e., if the probability of a credit card transaction being fraudulent is calculated as 55%, it would be classified as a 1 or Yes or True).\n",
    "\n",
    "To calculate probabilities, we use the Sigmoid function (also called logistic function):\n",
    "\n",
    "$$ S(x) = {1 \\over 1+e^{-x}} $$\n",
    "\n",
    "The output is interpreted as a probability from a Binomial probability distribution function for the class labeled 0 or 1. In general when we produce the function which corresponds with the model, we are estimating the coefficients / parameters from the sample of observations that we have - in theory, these samples are representative of the population. We must always remember there will be 'noise' in the data, which is what we typically consider the errors. For logistic regression, we look at MLE to estimate parameters (if you remember, for Linear regression we discussed Least Squares Optimization - this is similar).\n",
    "\n",
    "#### Odds and log-odds\n",
    "\n",
    "Odds, if you read the slides, are often stated as wins or losses. For example, what are the odds of me drawing a Jack of Hearts from a deck of cards? We can convert the probabilility produced by the logistic regression model to \"odds of success\", defined as the probability of success divided by the probability of not success:\n",
    "$$ odds = {p \\over (1-p)}$$\n",
    "\n",
    "The logarithm is calculated as the log of the odds (hence, log-istic regression!):\n",
    "$$log odds = {log{p\\over (1-p)}}$$\n",
    "\n",
    "Quick review here on logs -- generally with log calculations we are trying to calculate an exponent which yields a value. For example \n",
    "\n",
    "$$log_28 = 3$$ \n",
    "because \n",
    "$$2^3 = 8$$\n",
    "\n",
    "When we are not provided a log base, we assume we're using e as the base, and e = 2.71\n",
    "\n",
    "Now if we put it all together (and if you remember my drawings on the board in class); we use the logit function (above) to project odds on a scale of -infinity to + infinity - this allows to project data onto a straight line (this is the blue line in the picture on Slide 10 of the notes). This gives us:\n",
    "\n",
    "$$y = mx + b$$\n",
    "\n",
    "We then optimize the coefficients of this straight line, using gradient descent for example (more on this in a later class... maybe next semester). Then, we use the sigmoid function to convert the -infinity to +infinity values BACK to a probability of 0-1, so we can actually classify our outputs. In sum, the objective of our model is to predict/output a probability of belonging to class 1 or not.\n",
    "\n",
    "\n",
    "In the real world, you won't have to do this by hand - but it's important to understand the logic/math behind all of the models we are learning.\n",
    "\n",
    "### The Coding Part\n",
    "\n",
    "Let's get to the good stuff. We'll start with probability and odds."
   ]
  },
  {
   "cell_type": "code",
   "execution_count": 1,
   "metadata": {},
   "outputs": [
    {
     "name": "stdout",
     "output_type": "stream",
     "text": [
      "0.7\n",
      "2.333333333333333\n",
      "0.7\n"
     ]
    }
   ],
   "source": [
    "import math\n",
    "\n",
    "# define probability of success; \n",
    "# let's say, the probability I walk into class with a \n",
    "# coffee from Sbux on Wednesday\n",
    "p = 0.7\n",
    "print(p)\n",
    "#let's convert this to odds\n",
    "odds = p / (1-p)\n",
    "print(odds)\n",
    "#let's convert back to probability\n",
    "prob = odds / (odds + 1)\n",
    "print(prob)\n"
   ]
  },
  {
   "cell_type": "code",
   "execution_count": 2,
   "metadata": {},
   "outputs": [
    {
     "name": "stdout",
     "output_type": "stream",
     "text": [
      "0.7\n",
      "2.333333333333333\n",
      "0.8472978603872034\n",
      "0.7\n"
     ]
    }
   ],
   "source": [
    "#okay, next example - log odds; start with probability again\n",
    "p = 0.7\n",
    "print(p)\n",
    "#calculate odds\n",
    "odds = p / (1-p)\n",
    "print(odds)\n",
    "#convert to log-odds\n",
    "logodds = math.log(odds)\n",
    "print(logodds)\n",
    "#convert back to probability using sigmoid function\n",
    "prob = 1/(1+math.exp(-logodds))\n",
    "print(prob)"
   ]
  },
  {
   "cell_type": "markdown",
   "metadata": {},
   "source": [
    "Now let's start with estimating model parameters. Again, MLE is a framework we can use to estimate parameters. We are trying to maximize the conditional probability of observing the data (X) given a specific probability distribution and its parameters.\n",
    "\n",
    "For supervised learning, we can summarize the conditional probability as predicting the probability if the output, given the input:\n",
    "\n",
    "$$P(Y | X)$$\n",
    "\n",
    "To calculate maximum likelihood, we need start somewhere (i.e., make an assumption about the distribution). For logistic regression, we assume a Binomial distribution. Each example in a binomial distribution is a Bernoulli trial. Since the Bernoulli distribution has a single parameter (p), we can describe this as:\n",
    "\n",
    "$$P(y=1) = p$$\n",
    "$$P(y=0) = 1-p$$\n",
    "\n",
    "The mean of the Bernoulli distribution, therefore is:\n",
    "\n",
    "$$\\mu = P(y=1)*1 + P(y=0)*0$$\n",
    "\n",
    "THEREFORE, to calculate likelihood of a specific input, where the probability is given by our prediction function, we have:\n",
    "\n",
    "$$L = \\hat{y}*y + (1-\\hat{y})*(1-y)$$\n",
    "\n",
    "Let us test this function here:"
   ]
  },
  {
   "cell_type": "code",
   "execution_count": 3,
   "metadata": {},
   "outputs": [
    {
     "name": "stdout",
     "output_type": "stream",
     "text": [
      "0.9\n"
     ]
    }
   ],
   "source": [
    "def likelihood(y,yhat):\n",
    "    return yhat * y +(1-yhat)*(1-y)\n",
    "\n",
    "y, yhat = 1,0.9\n",
    "print(likelihood(y,yhat))"
   ]
  },
  {
   "cell_type": "markdown",
   "metadata": {},
   "source": [
    "Now we can transform the likelihood into LOG-likelihood by adding the log function:"
   ]
  },
  {
   "cell_type": "code",
   "execution_count": 4,
   "metadata": {},
   "outputs": [
    {
     "name": "stdout",
     "output_type": "stream",
     "text": [
      "-0.10536051565782628\n"
     ]
    }
   ],
   "source": [
    "loglikelihood = math.log(yhat)*y+math.log(1-yhat)*(1-y)\n",
    "print(loglikelihood)"
   ]
  },
  {
   "cell_type": "markdown",
   "metadata": {},
   "source": [
    "To find the maximum likelihood, we can sum up all of the logs of all the likelihoods. We would essentially start with a baseline model, and continue to iterate until we have a model that maximizes likelihood. Generally we can use gradient descent (we will cover this in a later session) to find the optimal coefficients. Let's build a logistic regression function from scratch for Titanic, and then we'll do it with the sklearn library."
   ]
  },
  {
   "cell_type": "code",
   "execution_count": 5,
   "metadata": {},
   "outputs": [],
   "source": [
    "import numpy as np\n",
    "\n",
    "#define a class which holds data and functions\n",
    "class LogisticRegression:\n",
    "    def __init__(self, x,y): #this is a function to initiate the class\n",
    "        self.intercept = np.ones((x.shape[0],1)) #create an array of ones same length as x variable, 1 column\n",
    "        self.x = np.concatenate((self.intercept,x),axis=1) #puts array of x values + array of ones side by side; note - x must be in array format\n",
    "        self.weight = np.zeros(self.x.shape[1]) #makes array of zeros with the same number of columns as x\n",
    "        self.y=y #output variable, also must be in array format\n",
    "\n",
    "    #sigmoid method\n",
    "    def sigmoid(self,x,weight):\n",
    "        z = np.dot(x,weight) #take the dot product of x-array, and weights \n",
    "        return 1 / (1+np.exp(-z)) #sigmoid function\n",
    "\n",
    "    #loss calculation\n",
    "    def loss(self, h, y): #y is the actual class; h is the probability of the class; this is the log loss function which we want to minimize\n",
    "        return (-y * np.log(h) - (1-y) *np.log(1-h)).mean() \n",
    "        \n",
    "    #gradient calculation\n",
    "    def gradient_descent(self, X, h, y): #gradient descent we use to minimize log function above, and find the best coefficients / straight line\n",
    "        return np.dot(X.T, (h-y)) / y.shape[0]\n",
    "        \n",
    "    #define fitting function\n",
    "    def fit(self, lr, iterations): #lr is the learning rate the model uses to determine the step size at each iteration while moving toward a minimum loss funciton - we'll cover this in gradient descent \n",
    "        for i in range(iterations): #basically we're doing a bunch of iterations; sigmoud, calculate loss, gradient descent\n",
    "            sigma = self.sigmoid(self.x,self.weight)\n",
    "            loss = self.loss(sigma,self.y)\n",
    "            dW = self.gradient_descent(self.x, sigma, self.y)\n",
    "\n",
    "            #update weights\n",
    "            self.weight -=lr*dW #then find best weights\n",
    "        return print(\"finito!\")\n",
    "        \n",
    "    #predict function\n",
    "    def predict(self,x_new,threshold): #fitting function, plus ability to set threshold\n",
    "        x_new = np.concatenate((self.intercept, x_new), axis=1) #repeat process above\n",
    "        result = self.sigmoid(x_new, self.weight)\n",
    "        result = result >= threshold #returns true/false if above threshold\n",
    "        y_pred = np.zeros(result.shape[0]) #create array of zeroes\n",
    "        for i in range(len(y_pred)):\n",
    "            if result[i] == True:\n",
    "                y_pred[i] =1 #replace 0 in array if probability is above threshold\n",
    "            else:\n",
    "                continue\n",
    "        return y_pred #return array\n"
   ]
  },
  {
   "cell_type": "markdown",
   "metadata": {},
   "source": [
    "Let's try this out on Titanic - and then we'll use the sklearn logistic regression function and also compare results with other classifiers."
   ]
  },
  {
   "cell_type": "code",
   "execution_count": 6,
   "metadata": {},
   "outputs": [],
   "source": [
    "from seaborn import load_dataset #titanic lives in seaborn\n",
    "import pandas as pd\n",
    "import seaborn as sns\n",
    "\n",
    "data = load_dataset('titanic')"
   ]
  },
  {
   "cell_type": "code",
   "execution_count": 7,
   "metadata": {},
   "outputs": [
    {
     "data": {
      "text/html": [
       "<div>\n",
       "<style scoped>\n",
       "    .dataframe tbody tr th:only-of-type {\n",
       "        vertical-align: middle;\n",
       "    }\n",
       "\n",
       "    .dataframe tbody tr th {\n",
       "        vertical-align: top;\n",
       "    }\n",
       "\n",
       "    .dataframe thead th {\n",
       "        text-align: right;\n",
       "    }\n",
       "</style>\n",
       "<table border=\"1\" class=\"dataframe\">\n",
       "  <thead>\n",
       "    <tr style=\"text-align: right;\">\n",
       "      <th></th>\n",
       "      <th>survived</th>\n",
       "      <th>pclass</th>\n",
       "      <th>sex</th>\n",
       "      <th>age</th>\n",
       "      <th>sibsp</th>\n",
       "      <th>parch</th>\n",
       "      <th>fare</th>\n",
       "      <th>embarked</th>\n",
       "      <th>class</th>\n",
       "      <th>who</th>\n",
       "      <th>adult_male</th>\n",
       "      <th>deck</th>\n",
       "      <th>embark_town</th>\n",
       "      <th>alive</th>\n",
       "      <th>alone</th>\n",
       "    </tr>\n",
       "  </thead>\n",
       "  <tbody>\n",
       "    <tr>\n",
       "      <th>0</th>\n",
       "      <td>0</td>\n",
       "      <td>3</td>\n",
       "      <td>male</td>\n",
       "      <td>22.0</td>\n",
       "      <td>1</td>\n",
       "      <td>0</td>\n",
       "      <td>7.2500</td>\n",
       "      <td>S</td>\n",
       "      <td>Third</td>\n",
       "      <td>man</td>\n",
       "      <td>True</td>\n",
       "      <td>NaN</td>\n",
       "      <td>Southampton</td>\n",
       "      <td>no</td>\n",
       "      <td>False</td>\n",
       "    </tr>\n",
       "    <tr>\n",
       "      <th>1</th>\n",
       "      <td>1</td>\n",
       "      <td>1</td>\n",
       "      <td>female</td>\n",
       "      <td>38.0</td>\n",
       "      <td>1</td>\n",
       "      <td>0</td>\n",
       "      <td>71.2833</td>\n",
       "      <td>C</td>\n",
       "      <td>First</td>\n",
       "      <td>woman</td>\n",
       "      <td>False</td>\n",
       "      <td>C</td>\n",
       "      <td>Cherbourg</td>\n",
       "      <td>yes</td>\n",
       "      <td>False</td>\n",
       "    </tr>\n",
       "    <tr>\n",
       "      <th>2</th>\n",
       "      <td>1</td>\n",
       "      <td>3</td>\n",
       "      <td>female</td>\n",
       "      <td>26.0</td>\n",
       "      <td>0</td>\n",
       "      <td>0</td>\n",
       "      <td>7.9250</td>\n",
       "      <td>S</td>\n",
       "      <td>Third</td>\n",
       "      <td>woman</td>\n",
       "      <td>False</td>\n",
       "      <td>NaN</td>\n",
       "      <td>Southampton</td>\n",
       "      <td>yes</td>\n",
       "      <td>True</td>\n",
       "    </tr>\n",
       "    <tr>\n",
       "      <th>3</th>\n",
       "      <td>1</td>\n",
       "      <td>1</td>\n",
       "      <td>female</td>\n",
       "      <td>35.0</td>\n",
       "      <td>1</td>\n",
       "      <td>0</td>\n",
       "      <td>53.1000</td>\n",
       "      <td>S</td>\n",
       "      <td>First</td>\n",
       "      <td>woman</td>\n",
       "      <td>False</td>\n",
       "      <td>C</td>\n",
       "      <td>Southampton</td>\n",
       "      <td>yes</td>\n",
       "      <td>False</td>\n",
       "    </tr>\n",
       "    <tr>\n",
       "      <th>4</th>\n",
       "      <td>0</td>\n",
       "      <td>3</td>\n",
       "      <td>male</td>\n",
       "      <td>35.0</td>\n",
       "      <td>0</td>\n",
       "      <td>0</td>\n",
       "      <td>8.0500</td>\n",
       "      <td>S</td>\n",
       "      <td>Third</td>\n",
       "      <td>man</td>\n",
       "      <td>True</td>\n",
       "      <td>NaN</td>\n",
       "      <td>Southampton</td>\n",
       "      <td>no</td>\n",
       "      <td>True</td>\n",
       "    </tr>\n",
       "  </tbody>\n",
       "</table>\n",
       "</div>"
      ],
      "text/plain": [
       "   survived  pclass     sex   age  sibsp  parch     fare embarked  class   \n",
       "0         0       3    male  22.0      1      0   7.2500        S  Third  \\\n",
       "1         1       1  female  38.0      1      0  71.2833        C  First   \n",
       "2         1       3  female  26.0      0      0   7.9250        S  Third   \n",
       "3         1       1  female  35.0      1      0  53.1000        S  First   \n",
       "4         0       3    male  35.0      0      0   8.0500        S  Third   \n",
       "\n",
       "     who  adult_male deck  embark_town alive  alone  \n",
       "0    man        True  NaN  Southampton    no  False  \n",
       "1  woman       False    C    Cherbourg   yes  False  \n",
       "2  woman       False  NaN  Southampton   yes   True  \n",
       "3  woman       False    C  Southampton   yes  False  \n",
       "4    man        True  NaN  Southampton    no   True  "
      ]
     },
     "execution_count": 7,
     "metadata": {},
     "output_type": "execute_result"
    }
   ],
   "source": [
    "data.head() #success! by the way, since i'm taking this from seaborn it's slightly different than the one we used in class\n"
   ]
  },
  {
   "cell_type": "code",
   "execution_count": 8,
   "metadata": {},
   "outputs": [
    {
     "name": "stdout",
     "output_type": "stream",
     "text": [
      "<class 'pandas.core.frame.DataFrame'>\n",
      "RangeIndex: 891 entries, 0 to 890\n",
      "Data columns (total 15 columns):\n",
      " #   Column       Non-Null Count  Dtype   \n",
      "---  ------       --------------  -----   \n",
      " 0   survived     891 non-null    int64   \n",
      " 1   pclass       891 non-null    int64   \n",
      " 2   sex          891 non-null    object  \n",
      " 3   age          714 non-null    float64 \n",
      " 4   sibsp        891 non-null    int64   \n",
      " 5   parch        891 non-null    int64   \n",
      " 6   fare         891 non-null    float64 \n",
      " 7   embarked     889 non-null    object  \n",
      " 8   class        891 non-null    category\n",
      " 9   who          891 non-null    object  \n",
      " 10  adult_male   891 non-null    bool    \n",
      " 11  deck         203 non-null    category\n",
      " 12  embark_town  889 non-null    object  \n",
      " 13  alive        891 non-null    object  \n",
      " 14  alone        891 non-null    bool    \n",
      "dtypes: bool(2), category(2), float64(2), int64(4), object(5)\n",
      "memory usage: 80.7+ KB\n"
     ]
    }
   ],
   "source": [
    "data.info() #missing data in Age, Embarked, Class, Deck, Embark Town"
   ]
  },
  {
   "cell_type": "markdown",
   "metadata": {},
   "source": [
    "#### Cleaning and transforming data\n",
    "\n",
    "Let's get rid of thte deck column - not useful, too many missing values. We can also remove the adult_male column, since it's redundant to sex. We can remove 'alive' since we don't care how long survivors lived, and it's redundant to survive. We can remove 'alone'. Remove Embark_town since it's redundant with Embarked. We can fill in missing values for Age and for Embarked. Also let's get rid of \"who\", names won't be relevant here."
   ]
  },
  {
   "cell_type": "code",
   "execution_count": 9,
   "metadata": {},
   "outputs": [],
   "source": [
    "data.drop(['alive','alone','embark_town','who','adult_male','deck','class'], axis=1,inplace=True)"
   ]
  },
  {
   "cell_type": "code",
   "execution_count": 10,
   "metadata": {},
   "outputs": [
    {
     "data": {
      "text/html": [
       "<div>\n",
       "<style scoped>\n",
       "    .dataframe tbody tr th:only-of-type {\n",
       "        vertical-align: middle;\n",
       "    }\n",
       "\n",
       "    .dataframe tbody tr th {\n",
       "        vertical-align: top;\n",
       "    }\n",
       "\n",
       "    .dataframe thead th {\n",
       "        text-align: right;\n",
       "    }\n",
       "</style>\n",
       "<table border=\"1\" class=\"dataframe\">\n",
       "  <thead>\n",
       "    <tr style=\"text-align: right;\">\n",
       "      <th></th>\n",
       "      <th>survived</th>\n",
       "      <th>pclass</th>\n",
       "      <th>sex</th>\n",
       "      <th>age</th>\n",
       "      <th>sibsp</th>\n",
       "      <th>parch</th>\n",
       "      <th>fare</th>\n",
       "      <th>embarked</th>\n",
       "    </tr>\n",
       "  </thead>\n",
       "  <tbody>\n",
       "    <tr>\n",
       "      <th>0</th>\n",
       "      <td>0</td>\n",
       "      <td>3</td>\n",
       "      <td>male</td>\n",
       "      <td>22.0</td>\n",
       "      <td>1</td>\n",
       "      <td>0</td>\n",
       "      <td>7.2500</td>\n",
       "      <td>S</td>\n",
       "    </tr>\n",
       "    <tr>\n",
       "      <th>1</th>\n",
       "      <td>1</td>\n",
       "      <td>1</td>\n",
       "      <td>female</td>\n",
       "      <td>38.0</td>\n",
       "      <td>1</td>\n",
       "      <td>0</td>\n",
       "      <td>71.2833</td>\n",
       "      <td>C</td>\n",
       "    </tr>\n",
       "    <tr>\n",
       "      <th>2</th>\n",
       "      <td>1</td>\n",
       "      <td>3</td>\n",
       "      <td>female</td>\n",
       "      <td>26.0</td>\n",
       "      <td>0</td>\n",
       "      <td>0</td>\n",
       "      <td>7.9250</td>\n",
       "      <td>S</td>\n",
       "    </tr>\n",
       "    <tr>\n",
       "      <th>3</th>\n",
       "      <td>1</td>\n",
       "      <td>1</td>\n",
       "      <td>female</td>\n",
       "      <td>35.0</td>\n",
       "      <td>1</td>\n",
       "      <td>0</td>\n",
       "      <td>53.1000</td>\n",
       "      <td>S</td>\n",
       "    </tr>\n",
       "    <tr>\n",
       "      <th>4</th>\n",
       "      <td>0</td>\n",
       "      <td>3</td>\n",
       "      <td>male</td>\n",
       "      <td>35.0</td>\n",
       "      <td>0</td>\n",
       "      <td>0</td>\n",
       "      <td>8.0500</td>\n",
       "      <td>S</td>\n",
       "    </tr>\n",
       "    <tr>\n",
       "      <th>...</th>\n",
       "      <td>...</td>\n",
       "      <td>...</td>\n",
       "      <td>...</td>\n",
       "      <td>...</td>\n",
       "      <td>...</td>\n",
       "      <td>...</td>\n",
       "      <td>...</td>\n",
       "      <td>...</td>\n",
       "    </tr>\n",
       "    <tr>\n",
       "      <th>886</th>\n",
       "      <td>0</td>\n",
       "      <td>2</td>\n",
       "      <td>male</td>\n",
       "      <td>27.0</td>\n",
       "      <td>0</td>\n",
       "      <td>0</td>\n",
       "      <td>13.0000</td>\n",
       "      <td>S</td>\n",
       "    </tr>\n",
       "    <tr>\n",
       "      <th>887</th>\n",
       "      <td>1</td>\n",
       "      <td>1</td>\n",
       "      <td>female</td>\n",
       "      <td>19.0</td>\n",
       "      <td>0</td>\n",
       "      <td>0</td>\n",
       "      <td>30.0000</td>\n",
       "      <td>S</td>\n",
       "    </tr>\n",
       "    <tr>\n",
       "      <th>888</th>\n",
       "      <td>0</td>\n",
       "      <td>3</td>\n",
       "      <td>female</td>\n",
       "      <td>NaN</td>\n",
       "      <td>1</td>\n",
       "      <td>2</td>\n",
       "      <td>23.4500</td>\n",
       "      <td>S</td>\n",
       "    </tr>\n",
       "    <tr>\n",
       "      <th>889</th>\n",
       "      <td>1</td>\n",
       "      <td>1</td>\n",
       "      <td>male</td>\n",
       "      <td>26.0</td>\n",
       "      <td>0</td>\n",
       "      <td>0</td>\n",
       "      <td>30.0000</td>\n",
       "      <td>C</td>\n",
       "    </tr>\n",
       "    <tr>\n",
       "      <th>890</th>\n",
       "      <td>0</td>\n",
       "      <td>3</td>\n",
       "      <td>male</td>\n",
       "      <td>32.0</td>\n",
       "      <td>0</td>\n",
       "      <td>0</td>\n",
       "      <td>7.7500</td>\n",
       "      <td>Q</td>\n",
       "    </tr>\n",
       "  </tbody>\n",
       "</table>\n",
       "<p>891 rows × 8 columns</p>\n",
       "</div>"
      ],
      "text/plain": [
       "     survived  pclass     sex   age  sibsp  parch     fare embarked\n",
       "0           0       3    male  22.0      1      0   7.2500        S\n",
       "1           1       1  female  38.0      1      0  71.2833        C\n",
       "2           1       3  female  26.0      0      0   7.9250        S\n",
       "3           1       1  female  35.0      1      0  53.1000        S\n",
       "4           0       3    male  35.0      0      0   8.0500        S\n",
       "..        ...     ...     ...   ...    ...    ...      ...      ...\n",
       "886         0       2    male  27.0      0      0  13.0000        S\n",
       "887         1       1  female  19.0      0      0  30.0000        S\n",
       "888         0       3  female   NaN      1      2  23.4500        S\n",
       "889         1       1    male  26.0      0      0  30.0000        C\n",
       "890         0       3    male  32.0      0      0   7.7500        Q\n",
       "\n",
       "[891 rows x 8 columns]"
      ]
     },
     "execution_count": 10,
     "metadata": {},
     "output_type": "execute_result"
    }
   ],
   "source": [
    "data"
   ]
  },
  {
   "cell_type": "markdown",
   "metadata": {},
   "source": [
    "We can fill in missing data for Age, using median by sex - this is probably the safest approach. For Embarked, we can just find the most popular value."
   ]
  },
  {
   "cell_type": "code",
   "execution_count": 11,
   "metadata": {},
   "outputs": [
    {
     "data": {
      "text/html": [
       "<div>\n",
       "<style scoped>\n",
       "    .dataframe tbody tr th:only-of-type {\n",
       "        vertical-align: middle;\n",
       "    }\n",
       "\n",
       "    .dataframe tbody tr th {\n",
       "        vertical-align: top;\n",
       "    }\n",
       "\n",
       "    .dataframe thead th {\n",
       "        text-align: right;\n",
       "    }\n",
       "</style>\n",
       "<table border=\"1\" class=\"dataframe\">\n",
       "  <thead>\n",
       "    <tr style=\"text-align: right;\">\n",
       "      <th></th>\n",
       "      <th>survived</th>\n",
       "      <th>pclass</th>\n",
       "      <th>sex</th>\n",
       "      <th>age</th>\n",
       "      <th>sibsp</th>\n",
       "      <th>parch</th>\n",
       "      <th>fare</th>\n",
       "    </tr>\n",
       "    <tr>\n",
       "      <th>embarked</th>\n",
       "      <th></th>\n",
       "      <th></th>\n",
       "      <th></th>\n",
       "      <th></th>\n",
       "      <th></th>\n",
       "      <th></th>\n",
       "      <th></th>\n",
       "    </tr>\n",
       "  </thead>\n",
       "  <tbody>\n",
       "    <tr>\n",
       "      <th>C</th>\n",
       "      <td>168</td>\n",
       "      <td>168</td>\n",
       "      <td>168</td>\n",
       "      <td>130</td>\n",
       "      <td>168</td>\n",
       "      <td>168</td>\n",
       "      <td>168</td>\n",
       "    </tr>\n",
       "    <tr>\n",
       "      <th>Q</th>\n",
       "      <td>77</td>\n",
       "      <td>77</td>\n",
       "      <td>77</td>\n",
       "      <td>28</td>\n",
       "      <td>77</td>\n",
       "      <td>77</td>\n",
       "      <td>77</td>\n",
       "    </tr>\n",
       "    <tr>\n",
       "      <th>S</th>\n",
       "      <td>644</td>\n",
       "      <td>644</td>\n",
       "      <td>644</td>\n",
       "      <td>554</td>\n",
       "      <td>644</td>\n",
       "      <td>644</td>\n",
       "      <td>644</td>\n",
       "    </tr>\n",
       "  </tbody>\n",
       "</table>\n",
       "</div>"
      ],
      "text/plain": [
       "          survived  pclass  sex  age  sibsp  parch  fare\n",
       "embarked                                                \n",
       "C              168     168  168  130    168    168   168\n",
       "Q               77      77   77   28     77     77    77\n",
       "S              644     644  644  554    644    644   644"
      ]
     },
     "execution_count": 11,
     "metadata": {},
     "output_type": "execute_result"
    }
   ],
   "source": [
    "data.groupby('embarked').count()"
   ]
  },
  {
   "cell_type": "code",
   "execution_count": 12,
   "metadata": {},
   "outputs": [],
   "source": [
    "data['age'] = data['age'].fillna(data.groupby('sex')['age'].transform('median'))"
   ]
  },
  {
   "cell_type": "code",
   "execution_count": 13,
   "metadata": {},
   "outputs": [],
   "source": [
    "data['embarked'] = data['embarked'].fillna('S')"
   ]
  },
  {
   "cell_type": "code",
   "execution_count": 14,
   "metadata": {},
   "outputs": [
    {
     "name": "stdout",
     "output_type": "stream",
     "text": [
      "<class 'pandas.core.frame.DataFrame'>\n",
      "RangeIndex: 891 entries, 0 to 890\n",
      "Data columns (total 8 columns):\n",
      " #   Column    Non-Null Count  Dtype  \n",
      "---  ------    --------------  -----  \n",
      " 0   survived  891 non-null    int64  \n",
      " 1   pclass    891 non-null    int64  \n",
      " 2   sex       891 non-null    object \n",
      " 3   age       891 non-null    float64\n",
      " 4   sibsp     891 non-null    int64  \n",
      " 5   parch     891 non-null    int64  \n",
      " 6   fare      891 non-null    float64\n",
      " 7   embarked  891 non-null    object \n",
      "dtypes: float64(2), int64(4), object(2)\n",
      "memory usage: 55.8+ KB\n"
     ]
    }
   ],
   "source": [
    "data.info()"
   ]
  },
  {
   "cell_type": "markdown",
   "metadata": {},
   "source": [
    "Now let's make dummy variables for Embarked and Sex."
   ]
  },
  {
   "cell_type": "code",
   "execution_count": 15,
   "metadata": {},
   "outputs": [],
   "source": [
    "sex_dummies = pd.get_dummies(data['sex'])\n",
    "embarked_dummies = pd.get_dummies(data['embarked'])"
   ]
  },
  {
   "cell_type": "code",
   "execution_count": 16,
   "metadata": {},
   "outputs": [],
   "source": [
    "data = pd.concat([data,sex_dummies,embarked_dummies],axis=1)"
   ]
  },
  {
   "cell_type": "code",
   "execution_count": 17,
   "metadata": {},
   "outputs": [],
   "source": [
    "#drop old columns\n",
    "data.drop(['sex','embarked'],axis=1, inplace=True)"
   ]
  },
  {
   "cell_type": "code",
   "execution_count": 18,
   "metadata": {},
   "outputs": [
    {
     "data": {
      "text/plain": [
       "Index(['survived', 'pclass', 'age', 'sibsp', 'parch', 'fare', 'female', 'male',\n",
       "       'C', 'Q', 'S'],\n",
       "      dtype='object')"
      ]
     },
     "execution_count": 18,
     "metadata": {},
     "output_type": "execute_result"
    }
   ],
   "source": [
    "data.columns"
   ]
  },
  {
   "cell_type": "markdown",
   "metadata": {},
   "source": [
    "Now we are ready. Let's try the model. Remember, we should convert our variables to numpy arrays."
   ]
  },
  {
   "cell_type": "code",
   "execution_count": 19,
   "metadata": {},
   "outputs": [],
   "source": [
    "x = np.array(data[['pclass', 'age', 'sibsp', 'parch', 'fare', 'female', 'male',\n",
    "       'C', 'Q', 'S']])\n",
    "y = np.array(data.survived)\n",
    " \n"
   ]
  },
  {
   "cell_type": "code",
   "execution_count": 20,
   "metadata": {},
   "outputs": [
    {
     "ename": "TypeError",
     "evalue": "loop of ufunc does not support argument 0 of type float which has no callable exp method",
     "output_type": "error",
     "traceback": [
      "\u001b[0;31m---------------------------------------------------------------------------\u001b[0m",
      "\u001b[0;31mAttributeError\u001b[0m                            Traceback (most recent call last)",
      "\u001b[0;31mAttributeError\u001b[0m: 'float' object has no attribute 'exp'",
      "\nThe above exception was the direct cause of the following exception:\n",
      "\u001b[0;31mTypeError\u001b[0m                                 Traceback (most recent call last)",
      "Cell \u001b[0;32mIn[20], line 5\u001b[0m\n\u001b[1;32m      2\u001b[0m regressor \u001b[39m=\u001b[39m LogisticRegression(x,y)\n\u001b[1;32m      4\u001b[0m \u001b[39m#fit the model, 0.1 learning rate, anad 5000 iterations (this is how we'll find max likelihood)\u001b[39;00m\n\u001b[0;32m----> 5\u001b[0m regressor\u001b[39m.\u001b[39;49mfit(\u001b[39m0.1\u001b[39;49m , \u001b[39m5000\u001b[39;49m)\n\u001b[1;32m      8\u001b[0m y_pred \u001b[39m=\u001b[39m regressor\u001b[39m.\u001b[39mpredict(x,\u001b[39m0.5\u001b[39m) \u001b[39m#use 0.5 treshold\u001b[39;00m\n\u001b[1;32m     10\u001b[0m \u001b[39mprint\u001b[39m(\u001b[39m'\u001b[39m\u001b[39maccuracy -> \u001b[39m\u001b[39m{}\u001b[39;00m\u001b[39m'\u001b[39m\u001b[39m.\u001b[39mformat(\u001b[39msum\u001b[39m(y_pred \u001b[39m==\u001b[39m y) \u001b[39m/\u001b[39m y\u001b[39m.\u001b[39mshape[\u001b[39m0\u001b[39m])) \u001b[39m#print accuracy\u001b[39;00m\n",
      "Cell \u001b[0;32mIn[5], line 27\u001b[0m, in \u001b[0;36mLogisticRegression.fit\u001b[0;34m(self, lr, iterations)\u001b[0m\n\u001b[1;32m     25\u001b[0m \u001b[39mdef\u001b[39;00m \u001b[39mfit\u001b[39m(\u001b[39mself\u001b[39m, lr, iterations): \u001b[39m#lr is the learning rate the model uses to determine the step size at each iteration while moving toward a minimum loss funciton - we'll cover this in gradient descent \u001b[39;00m\n\u001b[1;32m     26\u001b[0m     \u001b[39mfor\u001b[39;00m i \u001b[39min\u001b[39;00m \u001b[39mrange\u001b[39m(iterations): \u001b[39m#basically we're doing a bunch of iterations; sigmoud, calculate loss, gradient descent\u001b[39;00m\n\u001b[0;32m---> 27\u001b[0m         sigma \u001b[39m=\u001b[39m \u001b[39mself\u001b[39;49m\u001b[39m.\u001b[39;49msigmoid(\u001b[39mself\u001b[39;49m\u001b[39m.\u001b[39;49mx,\u001b[39mself\u001b[39;49m\u001b[39m.\u001b[39;49mweight)\n\u001b[1;32m     28\u001b[0m         loss \u001b[39m=\u001b[39m \u001b[39mself\u001b[39m\u001b[39m.\u001b[39mloss(sigma,\u001b[39mself\u001b[39m\u001b[39m.\u001b[39my)\n\u001b[1;32m     29\u001b[0m         dW \u001b[39m=\u001b[39m \u001b[39mself\u001b[39m\u001b[39m.\u001b[39mgradient_descent(\u001b[39mself\u001b[39m\u001b[39m.\u001b[39mx, sigma, \u001b[39mself\u001b[39m\u001b[39m.\u001b[39my)\n",
      "Cell \u001b[0;32mIn[5], line 14\u001b[0m, in \u001b[0;36mLogisticRegression.sigmoid\u001b[0;34m(self, x, weight)\u001b[0m\n\u001b[1;32m     12\u001b[0m \u001b[39mdef\u001b[39;00m \u001b[39msigmoid\u001b[39m(\u001b[39mself\u001b[39m,x,weight):\n\u001b[1;32m     13\u001b[0m     z \u001b[39m=\u001b[39m np\u001b[39m.\u001b[39mdot(x,weight) \u001b[39m#take the dot product of x-array, and weights \u001b[39;00m\n\u001b[0;32m---> 14\u001b[0m     \u001b[39mreturn\u001b[39;00m \u001b[39m1\u001b[39m \u001b[39m/\u001b[39m (\u001b[39m1\u001b[39m\u001b[39m+\u001b[39mnp\u001b[39m.\u001b[39;49mexp(\u001b[39m-\u001b[39;49mz))\n",
      "\u001b[0;31mTypeError\u001b[0m: loop of ufunc does not support argument 0 of type float which has no callable exp method"
     ]
    }
   ],
   "source": [
    "#create the object\n",
    "regressor = LogisticRegression(x,y)\n",
    " \n",
    "#fit the model, 0.1 learning rate, anad 5000 iterations (this is how we'll find max likelihood)\n",
    "regressor.fit(0.1 , 5000)\n",
    " \n",
    " \n",
    "y_pred = regressor.predict(x,0.5) #use 0.5 treshold\n",
    " \n",
    "print('accuracy -> {}'.format(sum(y_pred == y) / y.shape[0])) #print accuracy"
   ]
  },
  {
   "cell_type": "code",
   "execution_count": 21,
   "metadata": {},
   "outputs": [
    {
     "ename": "TypeError",
     "evalue": "loop of ufunc does not support argument 0 of type float which has no callable exp method",
     "output_type": "error",
     "traceback": [
      "\u001b[0;31m---------------------------------------------------------------------------\u001b[0m",
      "\u001b[0;31mAttributeError\u001b[0m                            Traceback (most recent call last)",
      "\u001b[0;31mAttributeError\u001b[0m: 'float' object has no attribute 'exp'",
      "\nThe above exception was the direct cause of the following exception:\n",
      "\u001b[0;31mTypeError\u001b[0m                                 Traceback (most recent call last)",
      "Cell \u001b[0;32mIn[21], line 9\u001b[0m\n\u001b[1;32m      6\u001b[0m regressor \u001b[39m=\u001b[39m LogisticRegression(x,y)\n\u001b[1;32m      8\u001b[0m \u001b[39m#fit the model, 0.3 learning rate this time, anad 5000 iterations (this is how we'll find max likelihood)\u001b[39;00m\n\u001b[0;32m----> 9\u001b[0m regressor\u001b[39m.\u001b[39;49mfit(\u001b[39m0.3\u001b[39;49m, \u001b[39m5000\u001b[39;49m)\n\u001b[1;32m     12\u001b[0m y_pred \u001b[39m=\u001b[39m regressor\u001b[39m.\u001b[39mpredict(x,\u001b[39m0.5\u001b[39m) \u001b[39m#use 0.5 treshold\u001b[39;00m\n\u001b[1;32m     14\u001b[0m \u001b[39mprint\u001b[39m(\u001b[39m'\u001b[39m\u001b[39maccuracy -> \u001b[39m\u001b[39m{}\u001b[39;00m\u001b[39m'\u001b[39m\u001b[39m.\u001b[39mformat(\u001b[39msum\u001b[39m(y_pred \u001b[39m==\u001b[39m y) \u001b[39m/\u001b[39m y\u001b[39m.\u001b[39mshape[\u001b[39m0\u001b[39m])) \u001b[39m#print accuracy\u001b[39;00m\n",
      "Cell \u001b[0;32mIn[5], line 27\u001b[0m, in \u001b[0;36mLogisticRegression.fit\u001b[0;34m(self, lr, iterations)\u001b[0m\n\u001b[1;32m     25\u001b[0m \u001b[39mdef\u001b[39;00m \u001b[39mfit\u001b[39m(\u001b[39mself\u001b[39m, lr, iterations): \u001b[39m#lr is the learning rate the model uses to determine the step size at each iteration while moving toward a minimum loss funciton - we'll cover this in gradient descent \u001b[39;00m\n\u001b[1;32m     26\u001b[0m     \u001b[39mfor\u001b[39;00m i \u001b[39min\u001b[39;00m \u001b[39mrange\u001b[39m(iterations): \u001b[39m#basically we're doing a bunch of iterations; sigmoud, calculate loss, gradient descent\u001b[39;00m\n\u001b[0;32m---> 27\u001b[0m         sigma \u001b[39m=\u001b[39m \u001b[39mself\u001b[39;49m\u001b[39m.\u001b[39;49msigmoid(\u001b[39mself\u001b[39;49m\u001b[39m.\u001b[39;49mx,\u001b[39mself\u001b[39;49m\u001b[39m.\u001b[39;49mweight)\n\u001b[1;32m     28\u001b[0m         loss \u001b[39m=\u001b[39m \u001b[39mself\u001b[39m\u001b[39m.\u001b[39mloss(sigma,\u001b[39mself\u001b[39m\u001b[39m.\u001b[39my)\n\u001b[1;32m     29\u001b[0m         dW \u001b[39m=\u001b[39m \u001b[39mself\u001b[39m\u001b[39m.\u001b[39mgradient_descent(\u001b[39mself\u001b[39m\u001b[39m.\u001b[39mx, sigma, \u001b[39mself\u001b[39m\u001b[39m.\u001b[39my)\n",
      "Cell \u001b[0;32mIn[5], line 14\u001b[0m, in \u001b[0;36mLogisticRegression.sigmoid\u001b[0;34m(self, x, weight)\u001b[0m\n\u001b[1;32m     12\u001b[0m \u001b[39mdef\u001b[39;00m \u001b[39msigmoid\u001b[39m(\u001b[39mself\u001b[39m,x,weight):\n\u001b[1;32m     13\u001b[0m     z \u001b[39m=\u001b[39m np\u001b[39m.\u001b[39mdot(x,weight) \u001b[39m#take the dot product of x-array, and weights \u001b[39;00m\n\u001b[0;32m---> 14\u001b[0m     \u001b[39mreturn\u001b[39;00m \u001b[39m1\u001b[39m \u001b[39m/\u001b[39m (\u001b[39m1\u001b[39m\u001b[39m+\u001b[39mnp\u001b[39m.\u001b[39;49mexp(\u001b[39m-\u001b[39;49mz))\n",
      "\u001b[0;31mTypeError\u001b[0m: loop of ufunc does not support argument 0 of type float which has no callable exp method"
     ]
    }
   ],
   "source": [
    "#not good! Lets try different features\n",
    "x = np.array(data[['fare', 'female','age']])\n",
    "y = np.array(data.survived)\n",
    "\n",
    "#create the object\n",
    "regressor = LogisticRegression(x,y)\n",
    " \n",
    "#fit the model, 0.3 learning rate this time, anad 5000 iterations (this is how we'll find max likelihood)\n",
    "regressor.fit(0.3, 5000)\n",
    " \n",
    " \n",
    "y_pred = regressor.predict(x,0.5) #use 0.5 treshold\n",
    " \n",
    "print('accuracy -> {}'.format(sum(y_pred == y) / y.shape[0])) #print accuracy"
   ]
  },
  {
   "cell_type": "markdown",
   "metadata": {},
   "source": [
    "The second model worked much better - I changed the learning rate to 0.3, and also reduced the number of input variables to Fare, Female (y/n), and Age. So... hopefully this gives you a good view of how we create a logistic regression. Of course we don't need to do this in the real world, so now let's use sklearn's regression and compare the results to Naive Bayes and KNN."
   ]
  },
  {
   "cell_type": "code",
   "execution_count": 23,
   "metadata": {},
   "outputs": [],
   "source": [
    "import statsmodels.api as sm\n",
    "from sklearn.linear_model import LogisticRegression\n",
    "from sklearn.naive_bayes import GaussianNB\n",
    "from sklearn.neighbors import KNeighborsClassifier\n",
    "from sklearn.model_selection import train_test_split\n",
    "from sklearn.metrics import accuracy_score, f1_score, precision_score, roc_curve, roc_auc_score, precision_recall_curve, confusion_matrix, recall_score\n"
   ]
  },
  {
   "cell_type": "code",
   "execution_count": 24,
   "metadata": {},
   "outputs": [],
   "source": [
    "# there are many more hyperparameters we can adjust in this version, \n",
    "# such as regularization terms (we'll cover this in a later module)\n",
    "# weights, solver type, etc. for now, we'll keep the default settings\n",
    "\n",
    "from sklearn.neighbors import KNeighborsClassifier\n",
    "\n",
    "\n",
    "log = LogisticRegression()\n",
    "nb = GaussianNB()\n",
    "knn = KNeighborsClassifier() #default neighbours is 5"
   ]
  },
  {
   "cell_type": "code",
   "execution_count": 25,
   "metadata": {},
   "outputs": [],
   "source": [
    "#split the data\n",
    "x_train, x_test, y_train, y_test = train_test_split(x,y, test_size=0.2)"
   ]
  },
  {
   "cell_type": "code",
   "execution_count": 26,
   "metadata": {},
   "outputs": [
    {
     "data": {
      "text/html": [
       "<style>#sk-container-id-1 {color: black;background-color: white;}#sk-container-id-1 pre{padding: 0;}#sk-container-id-1 div.sk-toggleable {background-color: white;}#sk-container-id-1 label.sk-toggleable__label {cursor: pointer;display: block;width: 100%;margin-bottom: 0;padding: 0.3em;box-sizing: border-box;text-align: center;}#sk-container-id-1 label.sk-toggleable__label-arrow:before {content: \"▸\";float: left;margin-right: 0.25em;color: #696969;}#sk-container-id-1 label.sk-toggleable__label-arrow:hover:before {color: black;}#sk-container-id-1 div.sk-estimator:hover label.sk-toggleable__label-arrow:before {color: black;}#sk-container-id-1 div.sk-toggleable__content {max-height: 0;max-width: 0;overflow: hidden;text-align: left;background-color: #f0f8ff;}#sk-container-id-1 div.sk-toggleable__content pre {margin: 0.2em;color: black;border-radius: 0.25em;background-color: #f0f8ff;}#sk-container-id-1 input.sk-toggleable__control:checked~div.sk-toggleable__content {max-height: 200px;max-width: 100%;overflow: auto;}#sk-container-id-1 input.sk-toggleable__control:checked~label.sk-toggleable__label-arrow:before {content: \"▾\";}#sk-container-id-1 div.sk-estimator input.sk-toggleable__control:checked~label.sk-toggleable__label {background-color: #d4ebff;}#sk-container-id-1 div.sk-label input.sk-toggleable__control:checked~label.sk-toggleable__label {background-color: #d4ebff;}#sk-container-id-1 input.sk-hidden--visually {border: 0;clip: rect(1px 1px 1px 1px);clip: rect(1px, 1px, 1px, 1px);height: 1px;margin: -1px;overflow: hidden;padding: 0;position: absolute;width: 1px;}#sk-container-id-1 div.sk-estimator {font-family: monospace;background-color: #f0f8ff;border: 1px dotted black;border-radius: 0.25em;box-sizing: border-box;margin-bottom: 0.5em;}#sk-container-id-1 div.sk-estimator:hover {background-color: #d4ebff;}#sk-container-id-1 div.sk-parallel-item::after {content: \"\";width: 100%;border-bottom: 1px solid gray;flex-grow: 1;}#sk-container-id-1 div.sk-label:hover label.sk-toggleable__label {background-color: #d4ebff;}#sk-container-id-1 div.sk-serial::before {content: \"\";position: absolute;border-left: 1px solid gray;box-sizing: border-box;top: 0;bottom: 0;left: 50%;z-index: 0;}#sk-container-id-1 div.sk-serial {display: flex;flex-direction: column;align-items: center;background-color: white;padding-right: 0.2em;padding-left: 0.2em;position: relative;}#sk-container-id-1 div.sk-item {position: relative;z-index: 1;}#sk-container-id-1 div.sk-parallel {display: flex;align-items: stretch;justify-content: center;background-color: white;position: relative;}#sk-container-id-1 div.sk-item::before, #sk-container-id-1 div.sk-parallel-item::before {content: \"\";position: absolute;border-left: 1px solid gray;box-sizing: border-box;top: 0;bottom: 0;left: 50%;z-index: -1;}#sk-container-id-1 div.sk-parallel-item {display: flex;flex-direction: column;z-index: 1;position: relative;background-color: white;}#sk-container-id-1 div.sk-parallel-item:first-child::after {align-self: flex-end;width: 50%;}#sk-container-id-1 div.sk-parallel-item:last-child::after {align-self: flex-start;width: 50%;}#sk-container-id-1 div.sk-parallel-item:only-child::after {width: 0;}#sk-container-id-1 div.sk-dashed-wrapped {border: 1px dashed gray;margin: 0 0.4em 0.5em 0.4em;box-sizing: border-box;padding-bottom: 0.4em;background-color: white;}#sk-container-id-1 div.sk-label label {font-family: monospace;font-weight: bold;display: inline-block;line-height: 1.2em;}#sk-container-id-1 div.sk-label-container {text-align: center;}#sk-container-id-1 div.sk-container {/* jupyter's `normalize.less` sets `[hidden] { display: none; }` but bootstrap.min.css set `[hidden] { display: none !important; }` so we also need the `!important` here to be able to override the default hidden behavior on the sphinx rendered scikit-learn.org. See: https://github.com/scikit-learn/scikit-learn/issues/21755 */display: inline-block !important;position: relative;}#sk-container-id-1 div.sk-text-repr-fallback {display: none;}</style><div id=\"sk-container-id-1\" class=\"sk-top-container\"><div class=\"sk-text-repr-fallback\"><pre>KNeighborsClassifier()</pre><b>In a Jupyter environment, please rerun this cell to show the HTML representation or trust the notebook. <br />On GitHub, the HTML representation is unable to render, please try loading this page with nbviewer.org.</b></div><div class=\"sk-container\" hidden><div class=\"sk-item\"><div class=\"sk-estimator sk-toggleable\"><input class=\"sk-toggleable__control sk-hidden--visually\" id=\"sk-estimator-id-1\" type=\"checkbox\" checked><label for=\"sk-estimator-id-1\" class=\"sk-toggleable__label sk-toggleable__label-arrow\">KNeighborsClassifier</label><div class=\"sk-toggleable__content\"><pre>KNeighborsClassifier()</pre></div></div></div></div></div>"
      ],
      "text/plain": [
       "KNeighborsClassifier()"
      ]
     },
     "execution_count": 26,
     "metadata": {},
     "output_type": "execute_result"
    }
   ],
   "source": [
    "log.fit(x_train,y_train)\n",
    "nb.fit(x_train,y_train)\n",
    "knn.fit(x_train,y_train)"
   ]
  },
  {
   "cell_type": "markdown",
   "metadata": {},
   "source": [
    "We've spoken about classification models in the past and optimizing for the threshold (i.e., the default is 50%, but what if we wanted higher thresholds and they were more accurate?). In the example below, if I use the predict() function, I will basically get the 0/1 outputs. However, I can use a predict_proba() function so I can see the actual probabilities that the model is predicting. This will help me find an optimal threshold."
   ]
  },
  {
   "cell_type": "code",
   "execution_count": 27,
   "metadata": {},
   "outputs": [],
   "source": [
    "yhat_log = log.predict_proba(x_test)\n",
    "yhat_nb = nb.predict_proba(x_test)\n",
    "yhat_knn = knn.predict(x_test)"
   ]
  },
  {
   "cell_type": "markdown",
   "metadata": {},
   "source": [
    "In the next cell, for each observation, we can see the probability that the observation is a 1 and the probability that it's a 0. For example, the first entry has a 73% chance of being a 0 (dead), and a 27% chance of being a 1 (alive)."
   ]
  },
  {
   "cell_type": "code",
   "execution_count": 28,
   "metadata": {},
   "outputs": [
    {
     "data": {
      "text/plain": [
       "array([[0.66136065, 0.33863935],\n",
       "       [0.74406778, 0.25593222],\n",
       "       [0.33006313, 0.66993687],\n",
       "       [0.30714603, 0.69285397],\n",
       "       [0.83873296, 0.16126704],\n",
       "       [0.82722709, 0.17277291],\n",
       "       [0.30384628, 0.69615372],\n",
       "       [0.23546445, 0.76453555],\n",
       "       [0.31598897, 0.68401103],\n",
       "       [0.03509968, 0.96490032],\n",
       "       [0.83292532, 0.16707468],\n",
       "       [0.63193687, 0.36806313],\n",
       "       [0.83667182, 0.16332818],\n",
       "       [0.23061937, 0.76938063],\n",
       "       [0.84629624, 0.15370376],\n",
       "       [0.83343987, 0.16656013],\n",
       "       [0.32838436, 0.67161564],\n",
       "       [0.22741392, 0.77258608],\n",
       "       [0.25658499, 0.74341501],\n",
       "       [0.3131156 , 0.6868844 ],\n",
       "       [0.83189068, 0.16810932],\n",
       "       [0.82162894, 0.17837106],\n",
       "       [0.33630859, 0.66369141],\n",
       "       [0.32680471, 0.67319529],\n",
       "       [0.81690818, 0.18309182],\n",
       "       [0.81741521, 0.18258479],\n",
       "       [0.8147537 , 0.1852463 ],\n",
       "       [0.88082422, 0.11917578],\n",
       "       [0.81862961, 0.18137039],\n",
       "       [0.7163716 , 0.2836284 ],\n",
       "       [0.85458501, 0.14541499],\n",
       "       [0.81192301, 0.18807699],\n",
       "       [0.83801402, 0.16198598],\n",
       "       [0.26868283, 0.73131717],\n",
       "       [0.83318996, 0.16681004],\n",
       "       [0.66407133, 0.33592867],\n",
       "       [0.00104842, 0.99895158],\n",
       "       [0.83832695, 0.16167305],\n",
       "       [0.83303522, 0.16696478],\n",
       "       [0.82124043, 0.17875957],\n",
       "       [0.83346129, 0.16653871],\n",
       "       [0.25487055, 0.74512945],\n",
       "       [0.31020729, 0.68979271],\n",
       "       [0.81803506, 0.18196494],\n",
       "       [0.3001715 , 0.6998285 ],\n",
       "       [0.8260567 , 0.1739433 ],\n",
       "       [0.79177104, 0.20822896],\n",
       "       [0.82055632, 0.17944368],\n",
       "       [0.84629624, 0.15370376],\n",
       "       [0.81979731, 0.18020269],\n",
       "       [0.87894617, 0.12105383],\n",
       "       [0.64745984, 0.35254016],\n",
       "       [0.85341257, 0.14658743],\n",
       "       [0.30380269, 0.69619731],\n",
       "       [0.79637012, 0.20362988],\n",
       "       [0.23291071, 0.76708929],\n",
       "       [0.32838436, 0.67161564],\n",
       "       [0.2889971 , 0.7110029 ],\n",
       "       [0.83192036, 0.16807964],\n",
       "       [0.23329232, 0.76670768],\n",
       "       [0.83801402, 0.16198598],\n",
       "       [0.80259495, 0.19740505],\n",
       "       [0.83318996, 0.16681004],\n",
       "       [0.81337144, 0.18662856],\n",
       "       [0.8334827 , 0.1665173 ],\n",
       "       [0.79703528, 0.20296472],\n",
       "       [0.81379349, 0.18620651],\n",
       "       [0.80588595, 0.19411405],\n",
       "       [0.72305108, 0.27694892],\n",
       "       [0.81666636, 0.18333364],\n",
       "       [0.18570995, 0.81429005],\n",
       "       [0.31280774, 0.68719226],\n",
       "       [0.75292508, 0.24707492],\n",
       "       [0.32377164, 0.67622836],\n",
       "       [0.29834725, 0.70165275],\n",
       "       [0.82288506, 0.17711494],\n",
       "       [0.83044943, 0.16955057],\n",
       "       [0.72327931, 0.27672069],\n",
       "       [0.72717005, 0.27282995],\n",
       "       [0.84702525, 0.15297475],\n",
       "       [0.82155352, 0.17844648],\n",
       "       [0.83346848, 0.16653152],\n",
       "       [0.83343987, 0.16656013],\n",
       "       [0.77739671, 0.22260329],\n",
       "       [0.83181957, 0.16818043],\n",
       "       [0.78072266, 0.21927734],\n",
       "       [0.81998046, 0.18001954],\n",
       "       [0.28992014, 0.71007986],\n",
       "       [0.28448388, 0.71551612],\n",
       "       [0.21562223, 0.78437777],\n",
       "       [0.80566205, 0.19433795],\n",
       "       [0.73072959, 0.26927041],\n",
       "       [0.24501436, 0.75498564],\n",
       "       [0.26307918, 0.73692082],\n",
       "       [0.81699859, 0.18300141],\n",
       "       [0.22977037, 0.77022963],\n",
       "       [0.83318996, 0.16681004],\n",
       "       [0.69632439, 0.30367561],\n",
       "       [0.31876946, 0.68123054],\n",
       "       [0.86406657, 0.13593343],\n",
       "       [0.79870304, 0.20129696],\n",
       "       [0.26383634, 0.73616366],\n",
       "       [0.21208944, 0.78791056],\n",
       "       [0.30089465, 0.69910535],\n",
       "       [0.84806023, 0.15193977],\n",
       "       [0.32756839, 0.67243161],\n",
       "       [0.8150813 , 0.1849187 ],\n",
       "       [0.82904486, 0.17095514],\n",
       "       [0.10478099, 0.89521901],\n",
       "       [0.7387906 , 0.2612094 ],\n",
       "       [0.299928  , 0.700072  ],\n",
       "       [0.82867553, 0.17132447],\n",
       "       [0.83318996, 0.16681004],\n",
       "       [0.83292532, 0.16707468],\n",
       "       [0.83178555, 0.16821445],\n",
       "       [0.69794472, 0.30205528],\n",
       "       [0.29282311, 0.70717689],\n",
       "       [0.30831648, 0.69168352],\n",
       "       [0.3038811 , 0.6961189 ],\n",
       "       [0.83343987, 0.16656013],\n",
       "       [0.70005843, 0.29994157],\n",
       "       [0.14897581, 0.85102419],\n",
       "       [0.30973696, 0.69026304],\n",
       "       [0.83433728, 0.16566272],\n",
       "       [0.48992674, 0.51007326],\n",
       "       [0.7387906 , 0.2612094 ],\n",
       "       [0.84288524, 0.15711476],\n",
       "       [0.77656056, 0.22343944],\n",
       "       [0.83745731, 0.16254269],\n",
       "       [0.82574409, 0.17425591],\n",
       "       [0.20649788, 0.79350212],\n",
       "       [0.84363221, 0.15636779],\n",
       "       [0.87186263, 0.12813737],\n",
       "       [0.84806023, 0.15193977],\n",
       "       [0.80876522, 0.19123478],\n",
       "       [0.83142078, 0.16857922],\n",
       "       [0.82404357, 0.17595643],\n",
       "       [0.29040011, 0.70959989],\n",
       "       [0.84432608, 0.15567392],\n",
       "       [0.82404357, 0.17595643],\n",
       "       [0.83571934, 0.16428066],\n",
       "       [0.31274455, 0.68725545],\n",
       "       [0.75976266, 0.24023734],\n",
       "       [0.22099766, 0.77900234],\n",
       "       [0.83886007, 0.16113993],\n",
       "       [0.81756072, 0.18243928],\n",
       "       [0.30935109, 0.69064891],\n",
       "       [0.80084376, 0.19915624],\n",
       "       [0.28239914, 0.71760086],\n",
       "       [0.56174154, 0.43825846],\n",
       "       [0.81973721, 0.18026279],\n",
       "       [0.77032446, 0.22967554],\n",
       "       [0.22614592, 0.77385408],\n",
       "       [0.83752717, 0.16247283],\n",
       "       [0.32273236, 0.67726764],\n",
       "       [0.27009448, 0.72990552],\n",
       "       [0.32239529, 0.67760471],\n",
       "       [0.18099526, 0.81900474],\n",
       "       [0.86369185, 0.13630815],\n",
       "       [0.83740825, 0.16259175],\n",
       "       [0.3487636 , 0.6512364 ],\n",
       "       [0.11313871, 0.88686129],\n",
       "       [0.72551107, 0.27448893],\n",
       "       [0.82574409, 0.17425591],\n",
       "       [0.76176629, 0.23823371],\n",
       "       [0.8334755 , 0.1665245 ],\n",
       "       [0.83161614, 0.16838386],\n",
       "       [0.28788265, 0.71211735],\n",
       "       [0.31006286, 0.68993714],\n",
       "       [0.10838019, 0.89161981],\n",
       "       [0.75931455, 0.24068545],\n",
       "       [0.82260755, 0.17739245],\n",
       "       [0.84629624, 0.15370376],\n",
       "       [0.27867316, 0.72132684],\n",
       "       [0.82646747, 0.17353253],\n",
       "       [0.26790527, 0.73209473],\n",
       "       [0.75326906, 0.24673094],\n",
       "       [0.83318996, 0.16681004],\n",
       "       [0.25255656, 0.74744344]])"
      ]
     },
     "execution_count": 28,
     "metadata": {},
     "output_type": "execute_result"
    }
   ],
   "source": [
    "yhat_log"
   ]
  },
  {
   "cell_type": "markdown",
   "metadata": {},
   "source": [
    "Let's do a quick comparison to the predict function: we can see below that the same first observation was naturally classified as a 0. "
   ]
  },
  {
   "cell_type": "code",
   "execution_count": 29,
   "metadata": {},
   "outputs": [
    {
     "data": {
      "text/plain": [
       "array([0, 0, 1, 1, 0, 0, 1, 1, 1, 1, 0, 0, 0, 1, 0, 0, 1, 1, 1, 1, 0, 0,\n",
       "       1, 1, 0, 0, 0, 0, 0, 0, 0, 0, 0, 1, 0, 0, 1, 0, 0, 0, 0, 1, 1, 0,\n",
       "       1, 0, 0, 0, 0, 0, 0, 0, 0, 1, 0, 1, 1, 1, 0, 1, 0, 0, 0, 0, 0, 0,\n",
       "       0, 0, 0, 0, 1, 1, 0, 1, 1, 0, 0, 0, 0, 0, 0, 0, 0, 0, 0, 0, 0, 1,\n",
       "       1, 1, 0, 0, 1, 1, 0, 1, 0, 0, 1, 0, 0, 1, 1, 1, 0, 1, 0, 0, 1, 0,\n",
       "       1, 0, 0, 0, 0, 0, 1, 1, 1, 0, 0, 1, 1, 0, 1, 0, 0, 0, 0, 0, 1, 0,\n",
       "       0, 0, 0, 0, 0, 1, 0, 0, 0, 1, 0, 1, 0, 0, 1, 0, 1, 0, 0, 0, 1, 0,\n",
       "       1, 1, 1, 1, 0, 0, 1, 1, 0, 0, 0, 0, 0, 1, 1, 1, 0, 0, 0, 1, 0, 1,\n",
       "       0, 0, 1])"
      ]
     },
     "execution_count": 29,
     "metadata": {},
     "output_type": "execute_result"
    }
   ],
   "source": [
    "log.predict(x_test)"
   ]
  },
  {
   "cell_type": "markdown",
   "metadata": {},
   "source": [
    "Moving on. I'm going to isolate only the probabilities that something is a 1 (alive). "
   ]
  },
  {
   "cell_type": "code",
   "execution_count": 30,
   "metadata": {},
   "outputs": [
    {
     "data": {
      "text/plain": [
       "array([0.33863935, 0.25593222, 0.66993687, 0.69285397, 0.16126704,\n",
       "       0.17277291, 0.69615372, 0.76453555, 0.68401103, 0.96490032,\n",
       "       0.16707468, 0.36806313, 0.16332818, 0.76938063, 0.15370376,\n",
       "       0.16656013, 0.67161564, 0.77258608, 0.74341501, 0.6868844 ,\n",
       "       0.16810932, 0.17837106, 0.66369141, 0.67319529, 0.18309182,\n",
       "       0.18258479, 0.1852463 , 0.11917578, 0.18137039, 0.2836284 ,\n",
       "       0.14541499, 0.18807699, 0.16198598, 0.73131717, 0.16681004,\n",
       "       0.33592867, 0.99895158, 0.16167305, 0.16696478, 0.17875957,\n",
       "       0.16653871, 0.74512945, 0.68979271, 0.18196494, 0.6998285 ,\n",
       "       0.1739433 , 0.20822896, 0.17944368, 0.15370376, 0.18020269,\n",
       "       0.12105383, 0.35254016, 0.14658743, 0.69619731, 0.20362988,\n",
       "       0.76708929, 0.67161564, 0.7110029 , 0.16807964, 0.76670768,\n",
       "       0.16198598, 0.19740505, 0.16681004, 0.18662856, 0.1665173 ,\n",
       "       0.20296472, 0.18620651, 0.19411405, 0.27694892, 0.18333364,\n",
       "       0.81429005, 0.68719226, 0.24707492, 0.67622836, 0.70165275,\n",
       "       0.17711494, 0.16955057, 0.27672069, 0.27282995, 0.15297475,\n",
       "       0.17844648, 0.16653152, 0.16656013, 0.22260329, 0.16818043,\n",
       "       0.21927734, 0.18001954, 0.71007986, 0.71551612, 0.78437777,\n",
       "       0.19433795, 0.26927041, 0.75498564, 0.73692082, 0.18300141,\n",
       "       0.77022963, 0.16681004, 0.30367561, 0.68123054, 0.13593343,\n",
       "       0.20129696, 0.73616366, 0.78791056, 0.69910535, 0.15193977,\n",
       "       0.67243161, 0.1849187 , 0.17095514, 0.89521901, 0.2612094 ,\n",
       "       0.700072  , 0.17132447, 0.16681004, 0.16707468, 0.16821445,\n",
       "       0.30205528, 0.70717689, 0.69168352, 0.6961189 , 0.16656013,\n",
       "       0.29994157, 0.85102419, 0.69026304, 0.16566272, 0.51007326,\n",
       "       0.2612094 , 0.15711476, 0.22343944, 0.16254269, 0.17425591,\n",
       "       0.79350212, 0.15636779, 0.12813737, 0.15193977, 0.19123478,\n",
       "       0.16857922, 0.17595643, 0.70959989, 0.15567392, 0.17595643,\n",
       "       0.16428066, 0.68725545, 0.24023734, 0.77900234, 0.16113993,\n",
       "       0.18243928, 0.69064891, 0.19915624, 0.71760086, 0.43825846,\n",
       "       0.18026279, 0.22967554, 0.77385408, 0.16247283, 0.67726764,\n",
       "       0.72990552, 0.67760471, 0.81900474, 0.13630815, 0.16259175,\n",
       "       0.6512364 , 0.88686129, 0.27448893, 0.17425591, 0.23823371,\n",
       "       0.1665245 , 0.16838386, 0.71211735, 0.68993714, 0.89161981,\n",
       "       0.24068545, 0.17739245, 0.15370376, 0.72132684, 0.17353253,\n",
       "       0.73209473, 0.24673094, 0.16681004, 0.74744344])"
      ]
     },
     "execution_count": 30,
     "metadata": {},
     "output_type": "execute_result"
    }
   ],
   "source": [
    "yhat_log[:,1]"
   ]
  },
  {
   "cell_type": "markdown",
   "metadata": {},
   "source": [
    "Now we can use the roc_curve() function to plot these. A True Positive will be anything over 50%, because this would be classified as a 1. A False Positive will be anything where the prediction was over 50% but actually the output should have been a 0. You can print out each element to see what it looks like."
   ]
  },
  {
   "cell_type": "code",
   "execution_count": 31,
   "metadata": {},
   "outputs": [],
   "source": [
    "fpr, tpr, thresholds = roc_curve(y_test, yhat_log[:,1])"
   ]
  },
  {
   "cell_type": "code",
   "execution_count": 32,
   "metadata": {},
   "outputs": [
    {
     "data": {
      "text/plain": [
       "array([0.        , 0.        , 0.        , 0.00854701, 0.00854701,\n",
       "       0.01709402, 0.01709402, 0.03418803, 0.03418803, 0.04273504,\n",
       "       0.04273504, 0.05128205, 0.05128205, 0.07692308, 0.07692308,\n",
       "       0.09401709, 0.09401709, 0.13675214, 0.13675214, 0.14529915,\n",
       "       0.14529915, 0.15384615, 0.15384615, 0.16239316, 0.16239316,\n",
       "       0.17094017, 0.17094017, 0.17094017, 0.18803419, 0.18803419,\n",
       "       0.24786325, 0.24786325, 0.26495726, 0.26495726, 0.27350427,\n",
       "       0.27350427, 0.29059829, 0.29059829, 0.30769231, 0.30769231,\n",
       "       0.32478632, 0.32478632, 0.33333333, 0.33333333, 0.48717949,\n",
       "       0.48717949, 0.54700855, 0.58119658, 0.5982906 , 0.5982906 ,\n",
       "       0.65811966, 0.65811966, 0.66666667, 0.68376068, 0.69230769,\n",
       "       0.73504274, 0.75213675, 0.82905983, 0.82905983, 0.84615385,\n",
       "       0.8974359 , 0.92307692, 0.93162393, 0.94871795, 0.98290598,\n",
       "       0.98290598, 1.        ])"
      ]
     },
     "execution_count": 32,
     "metadata": {},
     "output_type": "execute_result"
    }
   ],
   "source": [
    "fpr"
   ]
  },
  {
   "attachments": {},
   "cell_type": "markdown",
   "metadata": {},
   "source": [
    "FPR metric is a proportion"
   ]
  },
  {
   "cell_type": "code",
   "execution_count": 33,
   "metadata": {},
   "outputs": [
    {
     "data": {
      "text/plain": [
       "array([0.        , 0.01612903, 0.11290323, 0.11290323, 0.12903226,\n",
       "       0.12903226, 0.16129032, 0.16129032, 0.19354839, 0.19354839,\n",
       "       0.20967742, 0.20967742, 0.33870968, 0.33870968, 0.41935484,\n",
       "       0.41935484, 0.5       , 0.5       , 0.51612903, 0.51612903,\n",
       "       0.58064516, 0.58064516, 0.61290323, 0.61290323, 0.62903226,\n",
       "       0.62903226, 0.66129032, 0.70967742, 0.70967742, 0.72580645,\n",
       "       0.72580645, 0.74193548, 0.74193548, 0.75806452, 0.75806452,\n",
       "       0.79032258, 0.79032258, 0.80645161, 0.80645161, 0.85483871,\n",
       "       0.85483871, 0.87096774, 0.87096774, 0.90322581, 0.90322581,\n",
       "       0.91935484, 0.91935484, 0.91935484, 0.91935484, 0.93548387,\n",
       "       0.93548387, 0.9516129 , 0.9516129 , 0.9516129 , 0.9516129 ,\n",
       "       0.9516129 , 0.96774194, 0.96774194, 0.98387097, 0.98387097,\n",
       "       0.98387097, 0.98387097, 0.98387097, 0.98387097, 0.98387097,\n",
       "       1.        , 1.        ])"
      ]
     },
     "execution_count": 33,
     "metadata": {},
     "output_type": "execute_result"
    }
   ],
   "source": [
    "tpr"
   ]
  },
  {
   "cell_type": "code",
   "execution_count": 34,
   "metadata": {},
   "outputs": [
    {
     "data": {
      "text/plain": [
       "array([1.99895158, 0.99895158, 0.81900474, 0.81429005, 0.79350212,\n",
       "       0.78791056, 0.77900234, 0.77258608, 0.76938063, 0.76708929,\n",
       "       0.76670768, 0.76453555, 0.73131717, 0.71760086, 0.70959989,\n",
       "       0.70165275, 0.69615372, 0.69026304, 0.68993714, 0.68979271,\n",
       "       0.68401103, 0.68123054, 0.67726764, 0.67622836, 0.67319529,\n",
       "       0.67243161, 0.67161564, 0.6512364 , 0.43825846, 0.36806313,\n",
       "       0.2836284 , 0.27694892, 0.27448893, 0.27282995, 0.26927041,\n",
       "       0.2612094 , 0.24707492, 0.24673094, 0.24023734, 0.22343944,\n",
       "       0.21927734, 0.20822896, 0.20362988, 0.20129696, 0.18026279,\n",
       "       0.18020269, 0.17711494, 0.17425591, 0.17353253, 0.17277291,\n",
       "       0.16818043, 0.16810932, 0.16807964, 0.16707468, 0.16696478,\n",
       "       0.16681004, 0.16656013, 0.16254269, 0.16247283, 0.16198598,\n",
       "       0.15567392, 0.15370376, 0.15297475, 0.15193977, 0.13593343,\n",
       "       0.12813737, 0.11917578])"
      ]
     },
     "execution_count": 34,
     "metadata": {},
     "output_type": "execute_result"
    }
   ],
   "source": [
    "thresholds"
   ]
  },
  {
   "cell_type": "code",
   "execution_count": 35,
   "metadata": {},
   "outputs": [
    {
     "data": {
      "text/plain": [
       "Text(0, 0.5, 'True Positive Rate')"
      ]
     },
     "execution_count": 35,
     "metadata": {},
     "output_type": "execute_result"
    },
    {
     "data": {
      "image/png": "[encoded data removed]",
      "text/plain": [
       "<Figure size 640x480 with 1 Axes>"
      ]
     },
     "metadata": {},
     "output_type": "display_data"
    }
   ],
   "source": [
    "import matplotlib.pyplot as plt\n",
    "plt.plot(fpr,tpr)\n",
    "plt.xlabel('False Positive Rate')\n",
    "plt.ylabel('True Positive Rate')"
   ]
  },
  {
   "cell_type": "markdown",
   "metadata": {},
   "source": [
    "Ideally we want this curve to be towards the top left; but in a non-ideal world, we want to find the optimal threshold. One way we can do this is by calculating the geometric mean (G-mean) which will find the balance between Sensitivity and Specificity. As a refresher:\n",
    "\n",
    "Sensitivity = True Positive Rate \\\n",
    "Specificity = 1 - False Positive Rate\n",
    "\n",
    "In other words:\n",
    "\n",
    "Sensitivity = TP / (TP + FN) \\\n",
    "Specificity = TN / (FP + TN)\n",
    "\n",
    "To calculate the G-mean, we simply take the square root of the Sensitivity multiplied by the Specificity."
   ]
  },
  {
   "cell_type": "code",
   "execution_count": 46,
   "metadata": {},
   "outputs": [
    {
     "data": {
      "text/plain": [
       "array([0.        , 0.12700013, 0.33601075, 0.33457173, 0.35767222,\n",
       "       0.35612719, 0.39816231, 0.39468484, 0.43235558, 0.43043825,\n",
       "       0.44801434, 0.44600979, 0.56686855, 0.55915569, 0.62217102,\n",
       "       0.61638325, 0.6730464 , 0.65698092, 0.66749328, 0.66418064,\n",
       "       0.70446995, 0.70093875, 0.72014611, 0.71649978, 0.72586619,\n",
       "       0.72215329, 0.74043855, 0.76704957, 0.75910065, 0.76767833,\n",
       "       0.73885432, 0.7470187 , 0.73848107, 0.74646488, 0.74211228,\n",
       "       0.75773741, 0.74876978, 0.7563717 , 0.74720322, 0.7692928 ,\n",
       "       0.759736  , 0.76686983, 0.76200076, 0.77598359, 0.68058263,\n",
       "       0.68663238, 0.64533703, 0.62050701, 0.60771168, 0.6130193 ,\n",
       "       0.56552944, 0.57038386, 0.56320893, 0.54857763, 0.54111364,\n",
       "       0.50213221, 0.48976286, 0.40672592, 0.41010129, 0.38905625,\n",
       "       0.3176631 , 0.27510431, 0.25937083, 0.22462173, 0.12968542,\n",
       "       0.13074409, 0.        ])"
      ]
     },
     "execution_count": 46,
     "metadata": {},
     "output_type": "execute_result"
    }
   ],
   "source": [
    "gmeans = np.sqrt(tpr*(1-fpr))\n",
    "gmeans"
   ]
  },
  {
   "cell_type": "code",
   "execution_count": 47,
   "metadata": {},
   "outputs": [
    {
     "name": "stdout",
     "output_type": "stream",
     "text": [
      "0.2012969570054761\n",
      "0.7759835936631706\n"
     ]
    }
   ],
   "source": [
    "#find the index with the highest gmean\n",
    "\n",
    "print(thresholds[np.argmax(gmeans)])\n",
    "print(gmeans[np.argmax(gmeans)])\n"
   ]
  },
  {
   "cell_type": "markdown",
   "metadata": {},
   "source": [
    "Now for this model, we can conclude that the best threshold is 61%, with a geometric mean of 81%. So how do we actually implement this?\n",
    "\n",
    "Unfortunately, sklearn models don't have a threshold parameter as a hyperparameter. But, we can simply use the predict_proba() function, then assign a class based on the optimal threshold, and go from there. \n",
    "\n",
    "Now let's repeat the process for NB."
   ]
  },
  {
   "cell_type": "code",
   "execution_count": 48,
   "metadata": {},
   "outputs": [
    {
     "name": "stdout",
     "output_type": "stream",
     "text": [
      "0.10350452979616137\n",
      "0.7787323300774874\n"
     ]
    }
   ],
   "source": [
    "fpr_nb, tpr_nb, thresholds_nb = roc_curve(y_test, yhat_nb[:,1])\n",
    "gmeans_nb = np.sqrt(tpr_nb*(1-fpr_nb))\n",
    "print(thresholds_nb[np.argmax(gmeans_nb)])\n",
    "print(gmeans_nb[np.argmax(gmeans_nb)])"
   ]
  },
  {
   "cell_type": "code",
   "execution_count": 39,
   "metadata": {},
   "outputs": [
    {
     "data": {
      "text/plain": [
       "array([0.        , 0.12700013, 0.12645623, 0.30975323, 0.3084152 ,\n",
       "       0.37772993, 0.37608404, 0.45199676, 0.44801434, 0.49702728,\n",
       "       0.49480343, 0.5248183 , 0.52006871, 0.53431981, 0.53186315,\n",
       "       0.61008888, 0.60725782, 0.6192839 , 0.60167032, 0.61313173,\n",
       "       0.61008888, 0.63228113, 0.62911178, 0.66085139, 0.65750529,\n",
       "       0.67774094, 0.67078957, 0.68058263, 0.67702865, 0.7327654 ,\n",
       "       0.72889854, 0.76362723, 0.73464429, 0.74276215, 0.73848107,\n",
       "       0.74646488, 0.74211228, 0.74996554, 0.74554092, 0.76091452,\n",
       "       0.77598359, 0.77135081, 0.77873233, 0.75005744, 0.74025234,\n",
       "       0.72529621, 0.73210665, 0.71147978, 0.71803733, 0.69659853,\n",
       "       0.68562779, 0.66883436, 0.67488728, 0.6633499 , 0.64565738,\n",
       "       0.65139667, 0.63304377, 0.63857264, 0.6130193 , 0.61828137,\n",
       "       0.54857763, 0.53804781, 0.49813548, 0.4812446 , 0.37498277,\n",
       "       0.35223498, 0.35515814, 0.30413926, 0.30662207, 0.        ])"
      ]
     },
     "execution_count": 39,
     "metadata": {},
     "output_type": "execute_result"
    }
   ],
   "source": [
    "gmeans_nb"
   ]
  },
  {
   "cell_type": "code",
   "execution_count": 40,
   "metadata": {},
   "outputs": [
    {
     "data": {
      "text/plain": [
       "array([0.        , 0.        , 0.00854701, 0.00854701, 0.01709402,\n",
       "       0.01709402, 0.02564103, 0.02564103, 0.04273504, 0.04273504,\n",
       "       0.05128205, 0.05128205, 0.06837607, 0.06837607, 0.07692308,\n",
       "       0.07692308, 0.08547009, 0.08547009, 0.13675214, 0.13675214,\n",
       "       0.14529915, 0.14529915, 0.15384615, 0.15384615, 0.16239316,\n",
       "       0.16239316, 0.17948718, 0.17948718, 0.18803419, 0.18803419,\n",
       "       0.1965812 , 0.1965812 , 0.25641026, 0.25641026, 0.26495726,\n",
       "       0.26495726, 0.27350427, 0.27350427, 0.28205128, 0.28205128,\n",
       "       0.28205128, 0.29059829, 0.29059829, 0.34188034, 0.35897436,\n",
       "       0.38461538, 0.38461538, 0.41880342, 0.41880342, 0.45299145,\n",
       "       0.47008547, 0.4957265 , 0.4957265 , 0.51282051, 0.53846154,\n",
       "       0.53846154, 0.56410256, 0.56410256, 0.5982906 , 0.5982906 ,\n",
       "       0.68376068, 0.7008547 , 0.74358974, 0.76068376, 0.85470085,\n",
       "       0.87179487, 0.87179487, 0.90598291, 0.90598291, 1.        ])"
      ]
     },
     "execution_count": 40,
     "metadata": {},
     "output_type": "execute_result"
    }
   ],
   "source": [
    "fpr_nb"
   ]
  },
  {
   "cell_type": "code",
   "execution_count": 41,
   "metadata": {},
   "outputs": [
    {
     "data": {
      "text/plain": [
       "Text(0, 0.5, 'True Positive Rate')"
      ]
     },
     "execution_count": 41,
     "metadata": {},
     "output_type": "execute_result"
    },
    {
     "data": {
      "image/png": "[encoded data removed]",
      "text/plain": [
       "<Figure size 640x480 with 1 Axes>"
      ]
     },
     "metadata": {},
     "output_type": "display_data"
    }
   ],
   "source": [
    "import matplotlib.pyplot as plt\n",
    "plt.plot(fpr_nb,tpr_nb)\n",
    "plt.xlabel('False Positive Rate')\n",
    "plt.ylabel('True Positive Rate')"
   ]
  },
  {
   "cell_type": "code",
   "execution_count": 42,
   "metadata": {},
   "outputs": [
    {
     "data": {
      "text/plain": [
       "<matplotlib.legend.Legend at 0x13207f0a0>"
      ]
     },
     "execution_count": 42,
     "metadata": {},
     "output_type": "execute_result"
    },
    {
     "data": {
      "image/png": "[encoded data removed]",
      "text/plain": [
       "<Figure size 640x480 with 1 Axes>"
      ]
     },
     "metadata": {},
     "output_type": "display_data"
    }
   ],
   "source": [
    "#now let's plot both models on the same plot so we can see how they compare\n",
    "import matplotlib.pyplot as plt\n",
    "plt.plot(fpr,tpr, label='log_reg')\n",
    "plt.plot(fpr_nb,tpr_nb, label='nb')\n",
    "plt.xlabel('False Positive Rate')\n",
    "plt.ylabel('True Positive Rate')\n",
    "plt.legend()"
   ]
  },
  {
   "cell_type": "markdown",
   "metadata": {},
   "source": [
    "The Logistic Regression is VERY slightly better than Naive Bayes for this problem. And once again, we have not done any tuning to these models, but likely we would want to lean towards tho logistic regression.\n",
    "\n",
    "Now, we cannot use the same method to evaluate KNN, simply because it's not a probability-based model - it uses distance. While we want to find the optimal probability threshold for NB or Logistic Regression, for KNN we would be looking for the optimal number of neighbours. To compare it to these two models though, we could use the confusion matrix, recall, precision, and F1 score. And the roc_curve which is based on predicted values, rather than probabilities."
   ]
  },
  {
   "cell_type": "code",
   "execution_count": 43,
   "metadata": {},
   "outputs": [
    {
     "data": {
      "text/plain": [
       "<matplotlib.legend.Legend at 0x12f45eec0>"
      ]
     },
     "execution_count": 43,
     "metadata": {},
     "output_type": "execute_result"
    },
    {
     "data": {
      "image/png": "[encoded data removed]",
      "text/plain": [
       "<Figure size 640x480 with 1 Axes>"
      ]
     },
     "metadata": {},
     "output_type": "display_data"
    }
   ],
   "source": [
    "fpr_knn, tpr_knn, thresholds_knn = roc_curve(y_test, yhat_knn)\n",
    "plt.plot(fpr_knn,tpr_knn, label='knn')\n",
    "plt.legend()"
   ]
  },
  {
   "cell_type": "code",
   "execution_count": 44,
   "metadata": {},
   "outputs": [
    {
     "name": "stdout",
     "output_type": "stream",
     "text": [
      "knn F1:  0.59375\n",
      "knn precision:  0.5757575757575758\n",
      "knn precision:  0.6129032258064516\n",
      "knn precision:  0.7094972067039106\n"
     ]
    }
   ],
   "source": [
    "print(\"knn F1: \", f1_score(y_test,yhat_knn))\n",
    "print(\"knn precision: \", precision_score(y_test,yhat_knn))\n",
    "print(\"knn precision: \", recall_score(y_test,yhat_knn))\n",
    "print(\"knn precision: \", accuracy_score(y_test,yhat_knn))"
   ]
  },
  {
   "cell_type": "markdown",
   "metadata": {},
   "source": [
    "Overall this model performed the worst, so... we should just scrap it. AND THAT'S IT! I hope this was helpful."
   ]
  }
 ],
 "metadata": {
  "kernelspec": {
   "display_name": "Python 3.7.13 ('base')",
   "language": "python",
   "name": "python3"
  },
  "language_info": {
   "codemirror_mode": {
    "name": "ipython",
    "version": 3
   },
   "file_extension": ".py",
   "mimetype": "text/x-python",
   "name": "python",
   "nbconvert_exporter": "python",
   "pygments_lexer": "ipython3",
   "version": "3.10.7"
  },
  "orig_nbformat": 4,
  "vscode": {
   "interpreter": {
    "hash": "ec34e64f2b95dc7183eda31f4b1ab04e3712d1753bd3e78e25e6efc4f82ffea6"
   }
  }
 },
 "nbformat": 4,
 "nbformat_minor": 2
}
