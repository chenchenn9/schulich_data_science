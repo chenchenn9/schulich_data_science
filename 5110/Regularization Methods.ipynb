{
 "cells": [
  {
   "cell_type": "code",
   "execution_count": 1,
   "id": "8289f5e1",
   "metadata": {},
   "outputs": [],
   "source": [
    "import numpy as np\n",
    "import pandas as pd\n",
    "import matplotlib.pyplot as plt\n",
    "import statsmodels.api as sm\n",
    "from sklearn import linear_model as lm"
   ]
  },
  {
   "cell_type": "code",
   "execution_count": 2,
   "id": "ac25ff6d",
   "metadata": {},
   "outputs": [],
   "source": [
    "x_1 = np.random.uniform(10,40,100)\n",
    "x_2 = np.random.uniform(-50,20,100)\n",
    "x_3 = np.random.uniform(20,60,100)\n",
    "x_4 = np.random.uniform(10,40,100)\n",
    "x_5 = np.random.uniform(-50,20,100)\n",
    "x_6 = np.random.uniform(20,60,100)\n",
    "epsilon = np.random.normal(0,10,100)"
   ]
  },
  {
   "cell_type": "code",
   "execution_count": 3,
   "id": "42b4353c",
   "metadata": {},
   "outputs": [],
   "source": [
    "y=-30+1.3*x_1+1.6*x_2+1.1*x_3+0.7*x_4-2.1*x_5-0.9*x_6+epsilon"
   ]
  },
  {
   "cell_type": "code",
   "execution_count": 4,
   "id": "f4f0d12d",
   "metadata": {},
   "outputs": [],
   "source": [
    "X_ols=pd.DataFrame()\n",
    "X_ols['Constant']=pd.Series(np.ones(100))\n",
    "X_ols['X1'] = pd.Series(x_1)\n",
    "X_ols['X2'] = pd.Series(x_2)\n",
    "X_ols['X3'] = pd.Series(x_3)\n",
    "X_ols['X4'] = pd.Series(x_4)\n",
    "X_ols['X5'] = pd.Series(x_5)\n",
    "X_ols['X6'] = pd.Series(x_6)"
   ]
  },
  {
   "cell_type": "code",
   "execution_count": 5,
   "id": "0614462a",
   "metadata": {},
   "outputs": [
    {
     "data": {
      "text/html": [
       "<table class=\"simpletable\">\n",
       "<caption>OLS Regression Results</caption>\n",
       "<tr>\n",
       "  <th>Dep. Variable:</th>            <td>y</td>        <th>  R-squared:         </th> <td>   0.968</td>\n",
       "</tr>\n",
       "<tr>\n",
       "  <th>Model:</th>                   <td>OLS</td>       <th>  Adj. R-squared:    </th> <td>   0.966</td>\n",
       "</tr>\n",
       "<tr>\n",
       "  <th>Method:</th>             <td>Least Squares</td>  <th>  F-statistic:       </th> <td>   465.5</td>\n",
       "</tr>\n",
       "<tr>\n",
       "  <th>Date:</th>             <td>Mon, 02 Oct 2023</td> <th>  Prob (F-statistic):</th> <td>4.60e-67</td>\n",
       "</tr>\n",
       "<tr>\n",
       "  <th>Time:</th>                 <td>16:09:23</td>     <th>  Log-Likelihood:    </th> <td> -370.99</td>\n",
       "</tr>\n",
       "<tr>\n",
       "  <th>No. Observations:</th>      <td>   100</td>      <th>  AIC:               </th> <td>   756.0</td>\n",
       "</tr>\n",
       "<tr>\n",
       "  <th>Df Residuals:</th>          <td>    93</td>      <th>  BIC:               </th> <td>   774.2</td>\n",
       "</tr>\n",
       "<tr>\n",
       "  <th>Df Model:</th>              <td>     6</td>      <th>                     </th>     <td> </td>   \n",
       "</tr>\n",
       "<tr>\n",
       "  <th>Covariance Type:</th>      <td>nonrobust</td>    <th>                     </th>     <td> </td>   \n",
       "</tr>\n",
       "</table>\n",
       "<table class=\"simpletable\">\n",
       "<tr>\n",
       "      <td></td>        <th>coef</th>     <th>std err</th>      <th>t</th>      <th>P>|t|</th>  <th>[0.025</th>    <th>0.975]</th>  \n",
       "</tr>\n",
       "<tr>\n",
       "  <th>Constant</th> <td>  -35.8260</td> <td>    6.778</td> <td>   -5.286</td> <td> 0.000</td> <td>  -49.285</td> <td>  -22.366</td>\n",
       "</tr>\n",
       "<tr>\n",
       "  <th>X1</th>       <td>    1.4355</td> <td>    0.124</td> <td>   11.619</td> <td> 0.000</td> <td>    1.190</td> <td>    1.681</td>\n",
       "</tr>\n",
       "<tr>\n",
       "  <th>X2</th>       <td>    1.5884</td> <td>    0.055</td> <td>   28.744</td> <td> 0.000</td> <td>    1.479</td> <td>    1.698</td>\n",
       "</tr>\n",
       "<tr>\n",
       "  <th>X3</th>       <td>    1.0615</td> <td>    0.100</td> <td>   10.618</td> <td> 0.000</td> <td>    0.863</td> <td>    1.260</td>\n",
       "</tr>\n",
       "<tr>\n",
       "  <th>X4</th>       <td>    0.5289</td> <td>    0.118</td> <td>    4.479</td> <td> 0.000</td> <td>    0.294</td> <td>    0.763</td>\n",
       "</tr>\n",
       "<tr>\n",
       "  <th>X5</th>       <td>   -2.0991</td> <td>    0.053</td> <td>  -39.533</td> <td> 0.000</td> <td>   -2.205</td> <td>   -1.994</td>\n",
       "</tr>\n",
       "<tr>\n",
       "  <th>X6</th>       <td>   -0.7404</td> <td>    0.092</td> <td>   -8.092</td> <td> 0.000</td> <td>   -0.922</td> <td>   -0.559</td>\n",
       "</tr>\n",
       "</table>\n",
       "<table class=\"simpletable\">\n",
       "<tr>\n",
       "  <th>Omnibus:</th>       <td> 1.860</td> <th>  Durbin-Watson:     </th> <td>   2.058</td>\n",
       "</tr>\n",
       "<tr>\n",
       "  <th>Prob(Omnibus):</th> <td> 0.395</td> <th>  Jarque-Bera (JB):  </th> <td>   1.524</td>\n",
       "</tr>\n",
       "<tr>\n",
       "  <th>Skew:</th>          <td> 0.138</td> <th>  Prob(JB):          </th> <td>   0.467</td>\n",
       "</tr>\n",
       "<tr>\n",
       "  <th>Kurtosis:</th>      <td> 2.461</td> <th>  Cond. No.          </th> <td>    465.</td>\n",
       "</tr>\n",
       "</table><br/><br/>Notes:<br/>[1] Standard Errors assume that the covariance matrix of the errors is correctly specified."
      ],
      "text/latex": [
       "\\begin{center}\n",
       "\\begin{tabular}{lclc}\n",
       "\\toprule\n",
       "\\textbf{Dep. Variable:}    &        y         & \\textbf{  R-squared:         } &     0.968   \\\\\n",
       "\\textbf{Model:}            &       OLS        & \\textbf{  Adj. R-squared:    } &     0.966   \\\\\n",
       "\\textbf{Method:}           &  Least Squares   & \\textbf{  F-statistic:       } &     465.5   \\\\\n",
       "\\textbf{Date:}             & Mon, 02 Oct 2023 & \\textbf{  Prob (F-statistic):} &  4.60e-67   \\\\\n",
       "\\textbf{Time:}             &     16:09:23     & \\textbf{  Log-Likelihood:    } &   -370.99   \\\\\n",
       "\\textbf{No. Observations:} &         100      & \\textbf{  AIC:               } &     756.0   \\\\\n",
       "\\textbf{Df Residuals:}     &          93      & \\textbf{  BIC:               } &     774.2   \\\\\n",
       "\\textbf{Df Model:}         &           6      & \\textbf{                     } &             \\\\\n",
       "\\textbf{Covariance Type:}  &    nonrobust     & \\textbf{                     } &             \\\\\n",
       "\\bottomrule\n",
       "\\end{tabular}\n",
       "\\begin{tabular}{lcccccc}\n",
       "                  & \\textbf{coef} & \\textbf{std err} & \\textbf{t} & \\textbf{P$> |$t$|$} & \\textbf{[0.025} & \\textbf{0.975]}  \\\\\n",
       "\\midrule\n",
       "\\textbf{Constant} &     -35.8260  &        6.778     &    -5.286  &         0.000        &      -49.285    &      -22.366     \\\\\n",
       "\\textbf{X1}       &       1.4355  &        0.124     &    11.619  &         0.000        &        1.190    &        1.681     \\\\\n",
       "\\textbf{X2}       &       1.5884  &        0.055     &    28.744  &         0.000        &        1.479    &        1.698     \\\\\n",
       "\\textbf{X3}       &       1.0615  &        0.100     &    10.618  &         0.000        &        0.863    &        1.260     \\\\\n",
       "\\textbf{X4}       &       0.5289  &        0.118     &     4.479  &         0.000        &        0.294    &        0.763     \\\\\n",
       "\\textbf{X5}       &      -2.0991  &        0.053     &   -39.533  &         0.000        &       -2.205    &       -1.994     \\\\\n",
       "\\textbf{X6}       &      -0.7404  &        0.092     &    -8.092  &         0.000        &       -0.922    &       -0.559     \\\\\n",
       "\\bottomrule\n",
       "\\end{tabular}\n",
       "\\begin{tabular}{lclc}\n",
       "\\textbf{Omnibus:}       &  1.860 & \\textbf{  Durbin-Watson:     } &    2.058  \\\\\n",
       "\\textbf{Prob(Omnibus):} &  0.395 & \\textbf{  Jarque-Bera (JB):  } &    1.524  \\\\\n",
       "\\textbf{Skew:}          &  0.138 & \\textbf{  Prob(JB):          } &    0.467  \\\\\n",
       "\\textbf{Kurtosis:}      &  2.461 & \\textbf{  Cond. No.          } &     465.  \\\\\n",
       "\\bottomrule\n",
       "\\end{tabular}\n",
       "%\\caption{OLS Regression Results}\n",
       "\\end{center}\n",
       "\n",
       "Notes: \\newline\n",
       " [1] Standard Errors assume that the covariance matrix of the errors is correctly specified."
      ],
      "text/plain": [
       "<class 'statsmodels.iolib.summary.Summary'>\n",
       "\"\"\"\n",
       "                            OLS Regression Results                            \n",
       "==============================================================================\n",
       "Dep. Variable:                      y   R-squared:                       0.968\n",
       "Model:                            OLS   Adj. R-squared:                  0.966\n",
       "Method:                 Least Squares   F-statistic:                     465.5\n",
       "Date:                Mon, 02 Oct 2023   Prob (F-statistic):           4.60e-67\n",
       "Time:                        16:09:23   Log-Likelihood:                -370.99\n",
       "No. Observations:                 100   AIC:                             756.0\n",
       "Df Residuals:                      93   BIC:                             774.2\n",
       "Df Model:                           6                                         \n",
       "Covariance Type:            nonrobust                                         \n",
       "==============================================================================\n",
       "                 coef    std err          t      P>|t|      [0.025      0.975]\n",
       "------------------------------------------------------------------------------\n",
       "Constant     -35.8260      6.778     -5.286      0.000     -49.285     -22.366\n",
       "X1             1.4355      0.124     11.619      0.000       1.190       1.681\n",
       "X2             1.5884      0.055     28.744      0.000       1.479       1.698\n",
       "X3             1.0615      0.100     10.618      0.000       0.863       1.260\n",
       "X4             0.5289      0.118      4.479      0.000       0.294       0.763\n",
       "X5            -2.0991      0.053    -39.533      0.000      -2.205      -1.994\n",
       "X6            -0.7404      0.092     -8.092      0.000      -0.922      -0.559\n",
       "==============================================================================\n",
       "Omnibus:                        1.860   Durbin-Watson:                   2.058\n",
       "Prob(Omnibus):                  0.395   Jarque-Bera (JB):                1.524\n",
       "Skew:                           0.138   Prob(JB):                        0.467\n",
       "Kurtosis:                       2.461   Cond. No.                         465.\n",
       "==============================================================================\n",
       "\n",
       "Notes:\n",
       "[1] Standard Errors assume that the covariance matrix of the errors is correctly specified.\n",
       "\"\"\""
      ]
     },
     "execution_count": 5,
     "metadata": {},
     "output_type": "execute_result"
    }
   ],
   "source": [
    "model_reg = sm.OLS(y,X_ols).fit()\n",
    "model_reg.summary()"
   ]
  },
  {
   "cell_type": "code",
   "execution_count": 7,
   "id": "7a996da0",
   "metadata": {},
   "outputs": [],
   "source": [
    "# Now we add some unrelated coefficients\n",
    "x_7 = np.random.uniform(10,40,100)\n",
    "x_8 = np.random.uniform(-50,20,100)\n",
    "x_9 = np.random.uniform(20,60,100)\n",
    "x_10 = np.random.uniform(10,40,100)\n",
    "x_11 = np.random.uniform(-50,20,100)\n",
    "x_12 = np.random.uniform(20,60,100)"
   ]
  },
  {
   "cell_type": "code",
   "execution_count": 8,
   "id": "6c40d68e",
   "metadata": {},
   "outputs": [],
   "source": [
    "X_ext = pd.DataFrame()\n",
    "X_ext['Constant']=pd.Series(np.ones(100))\n",
    "X_ext['X1'] = pd.Series(x_1)\n",
    "X_ext['X2'] = pd.Series(x_2)\n",
    "X_ext['X3'] = pd.Series(x_3)\n",
    "X_ext['X4'] = pd.Series(x_4)\n",
    "X_ext['X5'] = pd.Series(x_5)\n",
    "X_ext['X6'] = pd.Series(x_6)\n",
    "X_ext['X7'] = pd.Series(x_7)\n",
    "X_ext['X8'] = pd.Series(x_8)\n",
    "X_ext['X9'] = pd.Series(x_9)\n",
    "X_ext['X10'] = pd.Series(x_10)\n",
    "X_ext['X11'] = pd.Series(x_11)\n",
    "X_ext['X12'] = pd.Series(x_12)"
   ]
  },
  {
   "cell_type": "code",
   "execution_count": 9,
   "id": "d87033bc",
   "metadata": {},
   "outputs": [
    {
     "data": {
      "text/html": [
       "<table class=\"simpletable\">\n",
       "<caption>OLS Regression Results</caption>\n",
       "<tr>\n",
       "  <th>Dep. Variable:</th>            <td>y</td>        <th>  R-squared:         </th> <td>   0.970</td>\n",
       "</tr>\n",
       "<tr>\n",
       "  <th>Model:</th>                   <td>OLS</td>       <th>  Adj. R-squared:    </th> <td>   0.966</td>\n",
       "</tr>\n",
       "<tr>\n",
       "  <th>Method:</th>             <td>Least Squares</td>  <th>  F-statistic:       </th> <td>   232.6</td>\n",
       "</tr>\n",
       "<tr>\n",
       "  <th>Date:</th>             <td>Mon, 02 Oct 2023</td> <th>  Prob (F-statistic):</th> <td>1.22e-60</td>\n",
       "</tr>\n",
       "<tr>\n",
       "  <th>Time:</th>                 <td>16:09:48</td>     <th>  Log-Likelihood:    </th> <td> -367.79</td>\n",
       "</tr>\n",
       "<tr>\n",
       "  <th>No. Observations:</th>      <td>   100</td>      <th>  AIC:               </th> <td>   761.6</td>\n",
       "</tr>\n",
       "<tr>\n",
       "  <th>Df Residuals:</th>          <td>    87</td>      <th>  BIC:               </th> <td>   795.5</td>\n",
       "</tr>\n",
       "<tr>\n",
       "  <th>Df Model:</th>              <td>    12</td>      <th>                     </th>     <td> </td>   \n",
       "</tr>\n",
       "<tr>\n",
       "  <th>Covariance Type:</th>      <td>nonrobust</td>    <th>                     </th>     <td> </td>   \n",
       "</tr>\n",
       "</table>\n",
       "<table class=\"simpletable\">\n",
       "<tr>\n",
       "      <td></td>        <th>coef</th>     <th>std err</th>      <th>t</th>      <th>P>|t|</th>  <th>[0.025</th>    <th>0.975]</th>  \n",
       "</tr>\n",
       "<tr>\n",
       "  <th>Constant</th> <td>  -38.0452</td> <td>    9.251</td> <td>   -4.113</td> <td> 0.000</td> <td>  -56.432</td> <td>  -19.659</td>\n",
       "</tr>\n",
       "<tr>\n",
       "  <th>X1</th>       <td>    1.5129</td> <td>    0.131</td> <td>   11.511</td> <td> 0.000</td> <td>    1.252</td> <td>    1.774</td>\n",
       "</tr>\n",
       "<tr>\n",
       "  <th>X2</th>       <td>    1.5785</td> <td>    0.057</td> <td>   27.850</td> <td> 0.000</td> <td>    1.466</td> <td>    1.691</td>\n",
       "</tr>\n",
       "<tr>\n",
       "  <th>X3</th>       <td>    1.1036</td> <td>    0.103</td> <td>   10.675</td> <td> 0.000</td> <td>    0.898</td> <td>    1.309</td>\n",
       "</tr>\n",
       "<tr>\n",
       "  <th>X4</th>       <td>    0.5174</td> <td>    0.120</td> <td>    4.301</td> <td> 0.000</td> <td>    0.278</td> <td>    0.756</td>\n",
       "</tr>\n",
       "<tr>\n",
       "  <th>X5</th>       <td>   -2.1148</td> <td>    0.054</td> <td>  -39.192</td> <td> 0.000</td> <td>   -2.222</td> <td>   -2.008</td>\n",
       "</tr>\n",
       "<tr>\n",
       "  <th>X6</th>       <td>   -0.7129</td> <td>    0.095</td> <td>   -7.502</td> <td> 0.000</td> <td>   -0.902</td> <td>   -0.524</td>\n",
       "</tr>\n",
       "<tr>\n",
       "  <th>X7</th>       <td>    0.0330</td> <td>    0.122</td> <td>    0.271</td> <td> 0.787</td> <td>   -0.209</td> <td>    0.275</td>\n",
       "</tr>\n",
       "<tr>\n",
       "  <th>X8</th>       <td>    0.1158</td> <td>    0.053</td> <td>    2.204</td> <td> 0.030</td> <td>    0.011</td> <td>    0.220</td>\n",
       "</tr>\n",
       "<tr>\n",
       "  <th>X9</th>       <td>    0.0778</td> <td>    0.107</td> <td>    0.727</td> <td> 0.469</td> <td>   -0.135</td> <td>    0.290</td>\n",
       "</tr>\n",
       "<tr>\n",
       "  <th>X10</th>      <td>   -0.0172</td> <td>    0.129</td> <td>   -0.134</td> <td> 0.894</td> <td>   -0.273</td> <td>    0.238</td>\n",
       "</tr>\n",
       "<tr>\n",
       "  <th>X11</th>      <td>   -0.0281</td> <td>    0.058</td> <td>   -0.482</td> <td> 0.631</td> <td>   -0.144</td> <td>    0.088</td>\n",
       "</tr>\n",
       "<tr>\n",
       "  <th>X12</th>      <td>   -0.1220</td> <td>    0.107</td> <td>   -1.139</td> <td> 0.258</td> <td>   -0.335</td> <td>    0.091</td>\n",
       "</tr>\n",
       "</table>\n",
       "<table class=\"simpletable\">\n",
       "<tr>\n",
       "  <th>Omnibus:</th>       <td> 5.323</td> <th>  Durbin-Watson:     </th> <td>   2.101</td>\n",
       "</tr>\n",
       "<tr>\n",
       "  <th>Prob(Omnibus):</th> <td> 0.070</td> <th>  Jarque-Bera (JB):  </th> <td>   2.589</td>\n",
       "</tr>\n",
       "<tr>\n",
       "  <th>Skew:</th>          <td> 0.068</td> <th>  Prob(JB):          </th> <td>   0.274</td>\n",
       "</tr>\n",
       "<tr>\n",
       "  <th>Kurtosis:</th>      <td> 2.224</td> <th>  Cond. No.          </th> <td>    887.</td>\n",
       "</tr>\n",
       "</table><br/><br/>Notes:<br/>[1] Standard Errors assume that the covariance matrix of the errors is correctly specified."
      ],
      "text/latex": [
       "\\begin{center}\n",
       "\\begin{tabular}{lclc}\n",
       "\\toprule\n",
       "\\textbf{Dep. Variable:}    &        y         & \\textbf{  R-squared:         } &     0.970   \\\\\n",
       "\\textbf{Model:}            &       OLS        & \\textbf{  Adj. R-squared:    } &     0.966   \\\\\n",
       "\\textbf{Method:}           &  Least Squares   & \\textbf{  F-statistic:       } &     232.6   \\\\\n",
       "\\textbf{Date:}             & Mon, 02 Oct 2023 & \\textbf{  Prob (F-statistic):} &  1.22e-60   \\\\\n",
       "\\textbf{Time:}             &     16:09:48     & \\textbf{  Log-Likelihood:    } &   -367.79   \\\\\n",
       "\\textbf{No. Observations:} &         100      & \\textbf{  AIC:               } &     761.6   \\\\\n",
       "\\textbf{Df Residuals:}     &          87      & \\textbf{  BIC:               } &     795.5   \\\\\n",
       "\\textbf{Df Model:}         &          12      & \\textbf{                     } &             \\\\\n",
       "\\textbf{Covariance Type:}  &    nonrobust     & \\textbf{                     } &             \\\\\n",
       "\\bottomrule\n",
       "\\end{tabular}\n",
       "\\begin{tabular}{lcccccc}\n",
       "                  & \\textbf{coef} & \\textbf{std err} & \\textbf{t} & \\textbf{P$> |$t$|$} & \\textbf{[0.025} & \\textbf{0.975]}  \\\\\n",
       "\\midrule\n",
       "\\textbf{Constant} &     -38.0452  &        9.251     &    -4.113  &         0.000        &      -56.432    &      -19.659     \\\\\n",
       "\\textbf{X1}       &       1.5129  &        0.131     &    11.511  &         0.000        &        1.252    &        1.774     \\\\\n",
       "\\textbf{X2}       &       1.5785  &        0.057     &    27.850  &         0.000        &        1.466    &        1.691     \\\\\n",
       "\\textbf{X3}       &       1.1036  &        0.103     &    10.675  &         0.000        &        0.898    &        1.309     \\\\\n",
       "\\textbf{X4}       &       0.5174  &        0.120     &     4.301  &         0.000        &        0.278    &        0.756     \\\\\n",
       "\\textbf{X5}       &      -2.1148  &        0.054     &   -39.192  &         0.000        &       -2.222    &       -2.008     \\\\\n",
       "\\textbf{X6}       &      -0.7129  &        0.095     &    -7.502  &         0.000        &       -0.902    &       -0.524     \\\\\n",
       "\\textbf{X7}       &       0.0330  &        0.122     &     0.271  &         0.787        &       -0.209    &        0.275     \\\\\n",
       "\\textbf{X8}       &       0.1158  &        0.053     &     2.204  &         0.030        &        0.011    &        0.220     \\\\\n",
       "\\textbf{X9}       &       0.0778  &        0.107     &     0.727  &         0.469        &       -0.135    &        0.290     \\\\\n",
       "\\textbf{X10}      &      -0.0172  &        0.129     &    -0.134  &         0.894        &       -0.273    &        0.238     \\\\\n",
       "\\textbf{X11}      &      -0.0281  &        0.058     &    -0.482  &         0.631        &       -0.144    &        0.088     \\\\\n",
       "\\textbf{X12}      &      -0.1220  &        0.107     &    -1.139  &         0.258        &       -0.335    &        0.091     \\\\\n",
       "\\bottomrule\n",
       "\\end{tabular}\n",
       "\\begin{tabular}{lclc}\n",
       "\\textbf{Omnibus:}       &  5.323 & \\textbf{  Durbin-Watson:     } &    2.101  \\\\\n",
       "\\textbf{Prob(Omnibus):} &  0.070 & \\textbf{  Jarque-Bera (JB):  } &    2.589  \\\\\n",
       "\\textbf{Skew:}          &  0.068 & \\textbf{  Prob(JB):          } &    0.274  \\\\\n",
       "\\textbf{Kurtosis:}      &  2.224 & \\textbf{  Cond. No.          } &     887.  \\\\\n",
       "\\bottomrule\n",
       "\\end{tabular}\n",
       "%\\caption{OLS Regression Results}\n",
       "\\end{center}\n",
       "\n",
       "Notes: \\newline\n",
       " [1] Standard Errors assume that the covariance matrix of the errors is correctly specified."
      ],
      "text/plain": [
       "<class 'statsmodels.iolib.summary.Summary'>\n",
       "\"\"\"\n",
       "                            OLS Regression Results                            \n",
       "==============================================================================\n",
       "Dep. Variable:                      y   R-squared:                       0.970\n",
       "Model:                            OLS   Adj. R-squared:                  0.966\n",
       "Method:                 Least Squares   F-statistic:                     232.6\n",
       "Date:                Mon, 02 Oct 2023   Prob (F-statistic):           1.22e-60\n",
       "Time:                        16:09:48   Log-Likelihood:                -367.79\n",
       "No. Observations:                 100   AIC:                             761.6\n",
       "Df Residuals:                      87   BIC:                             795.5\n",
       "Df Model:                          12                                         \n",
       "Covariance Type:            nonrobust                                         \n",
       "==============================================================================\n",
       "                 coef    std err          t      P>|t|      [0.025      0.975]\n",
       "------------------------------------------------------------------------------\n",
       "Constant     -38.0452      9.251     -4.113      0.000     -56.432     -19.659\n",
       "X1             1.5129      0.131     11.511      0.000       1.252       1.774\n",
       "X2             1.5785      0.057     27.850      0.000       1.466       1.691\n",
       "X3             1.1036      0.103     10.675      0.000       0.898       1.309\n",
       "X4             0.5174      0.120      4.301      0.000       0.278       0.756\n",
       "X5            -2.1148      0.054    -39.192      0.000      -2.222      -2.008\n",
       "X6            -0.7129      0.095     -7.502      0.000      -0.902      -0.524\n",
       "X7             0.0330      0.122      0.271      0.787      -0.209       0.275\n",
       "X8             0.1158      0.053      2.204      0.030       0.011       0.220\n",
       "X9             0.0778      0.107      0.727      0.469      -0.135       0.290\n",
       "X10           -0.0172      0.129     -0.134      0.894      -0.273       0.238\n",
       "X11           -0.0281      0.058     -0.482      0.631      -0.144       0.088\n",
       "X12           -0.1220      0.107     -1.139      0.258      -0.335       0.091\n",
       "==============================================================================\n",
       "Omnibus:                        5.323   Durbin-Watson:                   2.101\n",
       "Prob(Omnibus):                  0.070   Jarque-Bera (JB):                2.589\n",
       "Skew:                           0.068   Prob(JB):                        0.274\n",
       "Kurtosis:                       2.224   Cond. No.                         887.\n",
       "==============================================================================\n",
       "\n",
       "Notes:\n",
       "[1] Standard Errors assume that the covariance matrix of the errors is correctly specified.\n",
       "\"\"\""
      ]
     },
     "execution_count": 9,
     "metadata": {},
     "output_type": "execute_result"
    }
   ],
   "source": [
    "model_reg = sm.OLS(y,X_ext).fit()\n",
    "model_reg.summary()"
   ]
  },
  {
   "cell_type": "code",
   "execution_count": 10,
   "id": "4bf6e43b",
   "metadata": {},
   "outputs": [
    {
     "data": {
      "text/plain": [
       "array([ 1.48990791e+00,  1.57330804e+00,  1.09175550e+00,  5.08065246e-01,\n",
       "       -2.11091178e+00, -7.09271268e-01,  2.05557130e-02,  1.10156450e-01,\n",
       "        5.96554472e-02, -1.17982295e-03, -2.13781038e-02, -1.07191078e-01])"
      ]
     },
     "execution_count": 10,
     "metadata": {},
     "output_type": "execute_result"
    }
   ],
   "source": [
    "# When we input the matrix, we don't need to add the column of ones because \\\n",
    "# Lasso automatically takes it into account\n",
    "\n",
    "X_ext = X_ext.drop(columns=['Constant'])\n",
    "model_lasso = lm.Lasso(alpha=1).fit(X_ext,y)\n",
    "model_lasso.coef_"
   ]
  },
  {
   "cell_type": "code",
   "execution_count": 36,
   "id": "d9778204",
   "metadata": {},
   "outputs": [
    {
     "data": {
      "text/plain": [
       "array([ 1.10484424,  1.51390299,  1.01218205,  0.59247201, -2.09748408,\n",
       "       -0.84828585,  0.        , -0.        , -0.        , -0.        ,\n",
       "       -0.        ,  0.        ])"
      ]
     },
     "execution_count": 36,
     "metadata": {},
     "output_type": "execute_result"
    }
   ],
   "source": [
    "model_lasso = lm.Lasso(alpha=10).fit(X_ext,y)\n",
    "model_lasso.coef_"
   ]
  },
  {
   "cell_type": "code",
   "execution_count": 41,
   "id": "7b10d4f6",
   "metadata": {},
   "outputs": [
    {
     "data": {
      "text/plain": [
       "array([ 1.25127262,  1.53337585,  1.10937072,  0.70229948, -2.14587799,\n",
       "       -0.93878662,  0.11997347, -0.01943572, -0.0270754 , -0.05503608,\n",
       "       -0.04212088,  0.06266356])"
      ]
     },
     "execution_count": 41,
     "metadata": {},
     "output_type": "execute_result"
    }
   ],
   "source": [
    "# We now apply Ridge Regression to our data\n",
    "\n",
    "model_ridge = lm.Ridge(alpha=10).fit(X_ext,y)\n",
    "model_ridge.coef_"
   ]
  },
  {
   "cell_type": "code",
   "execution_count": 42,
   "id": "16de3321",
   "metadata": {},
   "outputs": [
    {
     "data": {
      "text/plain": [
       "array([ 0.50321658,  1.21756962,  0.57935289,  0.32105205, -1.62079055,\n",
       "       -0.42170529,  0.00375219, -0.07646285,  0.07164929,  0.05336775,\n",
       "        0.01281994,  0.08499685])"
      ]
     },
     "execution_count": 42,
     "metadata": {},
     "output_type": "execute_result"
    }
   ],
   "source": [
    "model_ridge = lm.Ridge(alpha=10000).fit(X_ext,y)\n",
    "model_ridge.coef_"
   ]
  },
  {
   "cell_type": "code",
   "execution_count": null,
   "id": "b0628168",
   "metadata": {},
   "outputs": [],
   "source": []
  }
 ],
 "metadata": {
  "kernelspec": {
   "display_name": "Python 3 (ipykernel)",
   "language": "python",
   "name": "python3"
  },
  "language_info": {
   "codemirror_mode": {
    "name": "ipython",
    "version": 3
   },
   "file_extension": ".py",
   "mimetype": "text/x-python",
   "name": "python",
   "nbconvert_exporter": "python",
   "pygments_lexer": "ipython3",
   "version": "3.10.7"
  }
 },
 "nbformat": 4,
 "nbformat_minor": 5
}
